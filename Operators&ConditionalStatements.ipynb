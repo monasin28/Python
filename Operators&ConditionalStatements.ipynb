{
  "nbformat": 4,
  "nbformat_minor": 0,
  "metadata": {
    "colab": {
      "provenance": [],
      "authorship_tag": "ABX9TyP1qRWsb57GAvhyIkcGuX5J",
      "include_colab_link": true
    },
    "kernelspec": {
      "name": "python3",
      "display_name": "Python 3"
    },
    "language_info": {
      "name": "python"
    }
  },
  "cells": [
    {
      "cell_type": "markdown",
      "metadata": {
        "id": "view-in-github",
        "colab_type": "text"
      },
      "source": [
        "<a href=\"https://colab.research.google.com/github/monasin28/Python/blob/main/Operators%26ConditionalStatements.ipynb\" target=\"_parent\"><img src=\"https://colab.research.google.com/assets/colab-badge.svg\" alt=\"Open In Colab\"/></a>"
      ]
    },
    {
      "cell_type": "markdown",
      "source": [
        "Operators in phthon"
      ],
      "metadata": {
        "id": "yXE63qH7v2tq"
      }
    },
    {
      "cell_type": "code",
      "source": [
        "a=30 #hard code"
      ],
      "metadata": {
        "id": "QchvbB4kv-WW"
      },
      "execution_count": null,
      "outputs": []
    },
    {
      "cell_type": "code",
      "source": [
        "name=input(\"Enter your name\") #bydefault the datatupe will always be stringin nature"
      ],
      "metadata": {
        "colab": {
          "base_uri": "https://localhost:8080/"
        },
        "id": "-cazlRvewDGu",
        "outputId": "b257cae7-d2f0-494d-9690-1c258ac0ee37"
      },
      "execution_count": null,
      "outputs": [
        {
          "name": "stdout",
          "output_type": "stream",
          "text": [
            "Enter your nameAnkita\n"
          ]
        }
      ]
    },
    {
      "cell_type": "code",
      "source": [
        "print(name)"
      ],
      "metadata": {
        "colab": {
          "base_uri": "https://localhost:8080/"
        },
        "id": "sJohmXuabN5S",
        "outputId": "fe5adba7-f655-4f97-a846-9d37d8124164"
      },
      "execution_count": null,
      "outputs": [
        {
          "output_type": "stream",
          "name": "stdout",
          "text": [
            "Ankita\n"
          ]
        }
      ]
    },
    {
      "cell_type": "code",
      "source": [
        "type(name)"
      ],
      "metadata": {
        "colab": {
          "base_uri": "https://localhost:8080/"
        },
        "id": "1vWGvhCTbQaA",
        "outputId": "e2df9773-c265-4978-a135-bcd4856971c7"
      },
      "execution_count": null,
      "outputs": [
        {
          "output_type": "execute_result",
          "data": {
            "text/plain": [
              "str"
            ]
          },
          "metadata": {},
          "execution_count": 5
        }
      ]
    },
    {
      "cell_type": "code",
      "source": [
        "#typecasting-- a restriction on top of the input()"
      ],
      "metadata": {
        "id": "EVbOL1OdbtyX"
      },
      "execution_count": null,
      "outputs": []
    },
    {
      "cell_type": "code",
      "source": [
        "otp=int(input(\"enter a 4 digit otp\")) #int() ia a restriction on top of input() which helps in accepting only input"
      ],
      "metadata": {
        "colab": {
          "base_uri": "https://localhost:8080/"
        },
        "id": "BjEkSm0ob1SH",
        "outputId": "8c0a9042-7fa2-4f4e-ab9c-99c081500cfa"
      },
      "execution_count": null,
      "outputs": [
        {
          "name": "stdout",
          "output_type": "stream",
          "text": [
            "enter a 4 digit otp5674\n"
          ]
        }
      ]
    },
    {
      "cell_type": "code",
      "source": [
        "print(otp)"
      ],
      "metadata": {
        "colab": {
          "base_uri": "https://localhost:8080/"
        },
        "id": "NTSrNB-mcc6_",
        "outputId": "4ed24569-d6e5-4252-d630-f84dd09e31c9"
      },
      "execution_count": null,
      "outputs": [
        {
          "output_type": "stream",
          "name": "stdout",
          "text": [
            "6548\n"
          ]
        }
      ]
    },
    {
      "cell_type": "code",
      "source": [
        "type(otp)"
      ],
      "metadata": {
        "colab": {
          "base_uri": "https://localhost:8080/"
        },
        "id": "ODVjQG1NcfIy",
        "outputId": "ae83ffde-4e62-43e9-c67e-ea4e6e3f2a14"
      },
      "execution_count": null,
      "outputs": [
        {
          "output_type": "execute_result",
          "data": {
            "text/plain": [
              "int"
            ]
          },
          "metadata": {},
          "execution_count": 9
        }
      ]
    },
    {
      "cell_type": "code",
      "source": [
        "temp= float(input(\"enter the temp of your city\")) #float() is restriction over input()"
      ],
      "metadata": {
        "colab": {
          "base_uri": "https://localhost:8080/"
        },
        "id": "4kqD-qyEdKt1",
        "outputId": "98eb86bf-53ff-496c-ff46-02bbfebb2e6d"
      },
      "execution_count": null,
      "outputs": [
        {
          "name": "stdout",
          "output_type": "stream",
          "text": [
            "enter the temp of your city67.8\n"
          ]
        }
      ]
    },
    {
      "cell_type": "code",
      "source": [
        "print(temp)"
      ],
      "metadata": {
        "colab": {
          "base_uri": "https://localhost:8080/"
        },
        "id": "GAetkDRudZt0",
        "outputId": "cebb2595-1943-4c70-8fae-c44b8c8b7ae6"
      },
      "execution_count": null,
      "outputs": [
        {
          "output_type": "stream",
          "name": "stdout",
          "text": [
            "67.8\n"
          ]
        }
      ]
    },
    {
      "cell_type": "code",
      "source": [
        "type(temp)"
      ],
      "metadata": {
        "colab": {
          "base_uri": "https://localhost:8080/"
        },
        "id": "VE3TTuATdmVG",
        "outputId": "70a2515c-1493-4d94-84ba-97635b0c526f"
      },
      "execution_count": null,
      "outputs": [
        {
          "output_type": "execute_result",
          "data": {
            "text/plain": [
              "float"
            ]
          },
          "metadata": {},
          "execution_count": 16
        }
      ]
    },
    {
      "cell_type": "markdown",
      "source": [
        "operators\n",
        "1.arithmatic operator\n",
        "2.assignment operator\n",
        "3.logical operators\n",
        "4.comparison operators"
      ],
      "metadata": {
        "id": "7Rp2KS_qeOmw"
      }
    },
    {
      "cell_type": "code",
      "source": [
        "#Arithmetic operators\n",
        "num1=40\n",
        "num2=5\n",
        "\n",
        "print(num1+num2) #addition\n",
        "print(num1-num2) #subtraction\n",
        "print(num1*num2) #multiplication\n",
        "print(num1/num2) #single forward slash --float division\n",
        "print(num1//num2) #double forward slash --integer division"
      ],
      "metadata": {
        "colab": {
          "base_uri": "https://localhost:8080/"
        },
        "id": "xMHH-nOyemHy",
        "outputId": "004dbffe-cbf9-4b7f-b68b-c26fc806b0b1"
      },
      "execution_count": null,
      "outputs": [
        {
          "output_type": "stream",
          "name": "stdout",
          "text": [
            "45\n",
            "35\n",
            "200\n",
            "8.0\n",
            "8\n"
          ]
        }
      ]
    },
    {
      "cell_type": "code",
      "source": [
        "#exponential arithmetic operator\n",
        "a=3 # raise the power of 3 by 5---2^5\n",
        "print(a**3)"
      ],
      "metadata": {
        "colab": {
          "base_uri": "https://localhost:8080/"
        },
        "id": "VXJmeX_egvhH",
        "outputId": "3ca52466-dd2b-4665-8f7c-f87fa7576f2c"
      },
      "execution_count": null,
      "outputs": [
        {
          "output_type": "stream",
          "name": "stdout",
          "text": [
            "27\n"
          ]
        }
      ]
    },
    {
      "cell_type": "code",
      "source": [
        "b=8 #raise the power of 8 by 6--- 8^6\n",
        "print(8**6)"
      ],
      "metadata": {
        "colab": {
          "base_uri": "https://localhost:8080/"
        },
        "id": "IrX_RNumhRNt",
        "outputId": "f6962a36-0220-4a3b-d4cb-b56e7a8ef6ea"
      },
      "execution_count": null,
      "outputs": [
        {
          "output_type": "stream",
          "name": "stdout",
          "text": [
            "262144\n"
          ]
        }
      ]
    },
    {
      "cell_type": "code",
      "source": [
        "#modulor operator --- %\n",
        "a=10\n",
        "b=3\n",
        "print(a%b) # a and b will be divided and the remainder of the division will be displayed as a output"
      ],
      "metadata": {
        "colab": {
          "base_uri": "https://localhost:8080/"
        },
        "id": "6hiHnyYDhikw",
        "outputId": "454b2f36-ed39-4401-9097-bf10acc8d33c"
      },
      "execution_count": null,
      "outputs": [
        {
          "output_type": "stream",
          "name": "stdout",
          "text": [
            "1\n"
          ]
        }
      ]
    },
    {
      "cell_type": "code",
      "source": [
        "a=10\n",
        "b=2\n",
        "print(a%b)"
      ],
      "metadata": {
        "colab": {
          "base_uri": "https://localhost:8080/"
        },
        "id": "FKdJy-oriKID",
        "outputId": "1f45f41a-f764-40fe-83a2-4ffc612d1918"
      },
      "execution_count": null,
      "outputs": [
        {
          "output_type": "stream",
          "name": "stdout",
          "text": [
            "0\n"
          ]
        }
      ]
    },
    {
      "cell_type": "code",
      "source": [
        "#comparison operators\n",
        "\n",
        "a=10\n",
        "b=20\n",
        "\n",
        "print(a>b) #greater than\n",
        "print(a<b) #less than\n",
        "print(a>=b) #greater than or equal to\n",
        "print(a<=b) #less than or equal to\n",
        "print(a==b) # equal to\n",
        "print(a!=b) #not equal to"
      ],
      "metadata": {
        "colab": {
          "base_uri": "https://localhost:8080/"
        },
        "id": "EBM0dbZ8nIj5",
        "outputId": "b038dd5a-484c-4194-e8ea-746bc625a17e"
      },
      "execution_count": null,
      "outputs": [
        {
          "output_type": "stream",
          "name": "stdout",
          "text": [
            "False\n",
            "True\n",
            "False\n",
            "True\n",
            "False\n",
            "True\n"
          ]
        }
      ]
    },
    {
      "cell_type": "code",
      "source": [
        "#logical operators --- (AND, OR, NOT)\n",
        "\n",
        "\n",
        "\n"
      ],
      "metadata": {
        "id": "gJk5q93qnzjU"
      },
      "execution_count": null,
      "outputs": []
    },
    {
      "cell_type": "code",
      "source": [
        "#AND operator\n",
        "\n",
        "print(True and True)\n",
        "print(True and False)\n",
        "print(False and True)\n",
        "print(False and False)"
      ],
      "metadata": {
        "colab": {
          "base_uri": "https://localhost:8080/"
        },
        "id": "MX4Wzy6Q1Lhi",
        "outputId": "ecbaab78-c79a-4f5d-fe78-150bb6fd9d97"
      },
      "execution_count": null,
      "outputs": [
        {
          "output_type": "stream",
          "name": "stdout",
          "text": [
            "True\n",
            "False\n",
            "False\n",
            "False\n"
          ]
        }
      ]
    },
    {
      "cell_type": "code",
      "source": [
        "#OR operator\n",
        "\n",
        "print(True or True)\n",
        "print(True or False)\n",
        "print(False or True)\n",
        "print(False or False)"
      ],
      "metadata": {
        "colab": {
          "base_uri": "https://localhost:8080/"
        },
        "id": "rdTpwQuD2Aty",
        "outputId": "7363dd51-096a-40d2-cb9a-a8accb6c0ed2"
      },
      "execution_count": null,
      "outputs": [
        {
          "output_type": "stream",
          "name": "stdout",
          "text": [
            "True\n",
            "True\n",
            "True\n",
            "False\n"
          ]
        }
      ]
    },
    {
      "cell_type": "code",
      "source": [
        "#Not operator\n",
        "print(not True)\n",
        "print(not False)"
      ],
      "metadata": {
        "colab": {
          "base_uri": "https://localhost:8080/"
        },
        "id": "id4iFYLO2Ky0",
        "outputId": "3070e5d0-5907-4f9e-9142-0a8d200bd0d9"
      },
      "execution_count": null,
      "outputs": [
        {
          "output_type": "stream",
          "name": "stdout",
          "text": [
            "False\n",
            "True\n"
          ]
        }
      ]
    },
    {
      "cell_type": "code",
      "source": [
        "print(not 5>7)"
      ],
      "metadata": {
        "colab": {
          "base_uri": "https://localhost:8080/"
        },
        "id": "Ou6Vo4it2gqJ",
        "outputId": "3d14f2d6-9dc2-46de-a0db-eee87560f978"
      },
      "execution_count": null,
      "outputs": [
        {
          "output_type": "stream",
          "name": "stdout",
          "text": [
            "True\n"
          ]
        }
      ]
    },
    {
      "cell_type": "code",
      "source": [
        "#assignment operators\n"
      ],
      "metadata": {
        "id": "esWSO4NA2-Zk"
      },
      "execution_count": 2,
      "outputs": []
    },
    {
      "cell_type": "markdown",
      "source": [
        "1. Assignment Operator (=).  a=3\n",
        "2. Addition assignment operator (+=). a+=3/a=a+3\n",
        "3. subtraction assignment operator (-=). a-=2/a=a-2\n",
        "4. multiplication Assignment operator (*=). a*=1/a=a*1\n",
        "5. division assignment operator (/=). a/=3 /\n",
        "a=a/3\n",
        "6. remainder assignment operator (%=). a%=4/a=a%4\n",
        "7. exponent assignment operator (**=). a**=10/a=a**10"
      ],
      "metadata": {
        "id": "GMPjHDKfdan-"
      }
    },
    {
      "cell_type": "code",
      "source": [
        "num=5"
      ],
      "metadata": {
        "id": "OLAPR57XfGVY"
      },
      "execution_count": 3,
      "outputs": []
    },
    {
      "cell_type": "code",
      "source": [
        "print(num)"
      ],
      "metadata": {
        "colab": {
          "base_uri": "https://localhost:8080/"
        },
        "id": "jSBV4MnhfYFF",
        "outputId": "29981a6d-ef79-424a-90b8-4eb9e0e926a0"
      },
      "execution_count": 4,
      "outputs": [
        {
          "output_type": "stream",
          "name": "stdout",
          "text": [
            "5\n"
          ]
        }
      ]
    },
    {
      "cell_type": "code",
      "source": [
        "num=5\n",
        "num=num + 5 #addition assignment operator\n",
        "print(num)"
      ],
      "metadata": {
        "colab": {
          "base_uri": "https://localhost:8080/"
        },
        "id": "5O0dSgfLffND",
        "outputId": "0388a00b-749a-4774-d766-f212c2f8279c"
      },
      "execution_count": 6,
      "outputs": [
        {
          "output_type": "stream",
          "name": "stdout",
          "text": [
            "10\n"
          ]
        }
      ]
    },
    {
      "cell_type": "code",
      "source": [
        "num=6\n",
        "num = num - 5 #subtraction assignment operator\n",
        "print(num)\n"
      ],
      "metadata": {
        "colab": {
          "base_uri": "https://localhost:8080/"
        },
        "id": "b45n08_df2qQ",
        "outputId": "db741c06-904f-40ac-dc60-f61ef3111d19"
      },
      "execution_count": 7,
      "outputs": [
        {
          "output_type": "stream",
          "name": "stdout",
          "text": [
            "1\n"
          ]
        }
      ]
    },
    {
      "cell_type": "code",
      "source": [
        "num = 10\n",
        "num = num / 5 #division assignment operator\n",
        "print(num)\n"
      ],
      "metadata": {
        "colab": {
          "base_uri": "https://localhost:8080/"
        },
        "id": "mZULHrudgXkS",
        "outputId": "edd97c20-2b73-4084-d6af-831c7a59a118"
      },
      "execution_count": 8,
      "outputs": [
        {
          "output_type": "stream",
          "name": "stdout",
          "text": [
            "2.0\n"
          ]
        }
      ]
    },
    {
      "cell_type": "code",
      "source": [
        "num = 10\n",
        "num = num * 5 #multipication assignment operator\n",
        "print(num)\n"
      ],
      "metadata": {
        "colab": {
          "base_uri": "https://localhost:8080/"
        },
        "id": "NhcyjZNjgoMY",
        "outputId": "1a2880a8-675b-4592-ecc0-8194280b6339"
      },
      "execution_count": 9,
      "outputs": [
        {
          "output_type": "stream",
          "name": "stdout",
          "text": [
            "50\n"
          ]
        }
      ]
    },
    {
      "cell_type": "code",
      "source": [
        "num = 16\n",
        "num = num % 5 #remainder assignment operator\n",
        "print(num)\n"
      ],
      "metadata": {
        "colab": {
          "base_uri": "https://localhost:8080/"
        },
        "id": "_1DakNhvg3Mv",
        "outputId": "fc34d5cc-a302-4b03-d02c-50b02b8d4d42"
      },
      "execution_count": 10,
      "outputs": [
        {
          "output_type": "stream",
          "name": "stdout",
          "text": [
            "1\n"
          ]
        }
      ]
    },
    {
      "cell_type": "code",
      "source": [
        "num = 5\n",
        "num = num ** 3 #exponent assignment operator\n",
        "print(num)\n"
      ],
      "metadata": {
        "colab": {
          "base_uri": "https://localhost:8080/"
        },
        "id": "giijZGn0hDXd",
        "outputId": "a76680eb-1f21-4a63-b3be-2d45e1892938"
      },
      "execution_count": 13,
      "outputs": [
        {
          "output_type": "stream",
          "name": "stdout",
          "text": [
            "125\n"
          ]
        }
      ]
    },
    {
      "cell_type": "markdown",
      "source": [
        "CONDITIONAL Statements\n",
        "if/else/elif"
      ],
      "metadata": {
        "id": "giffOkrIhP5J"
      }
    },
    {
      "cell_type": "markdown",
      "source": [
        "Q.1 Take number as input from the user and check if the number is greater than 15 or not?"
      ],
      "metadata": {
        "id": "QafLJpuJhznj"
      }
    },
    {
      "cell_type": "code",
      "source": [
        "num=int(input(\"enter a number\"))\n",
        "if(num>15):\n",
        "  print(\"num is greater than 15\")\n",
        "else:\n",
        "  print(\"num is less than 15\")"
      ],
      "metadata": {
        "colab": {
          "base_uri": "https://localhost:8080/"
        },
        "id": "oy1zAd_fiQ7L",
        "outputId": "571be4b5-d239-4371-debf-ec7e0378102c"
      },
      "execution_count": 19,
      "outputs": [
        {
          "output_type": "stream",
          "name": "stdout",
          "text": [
            "enter a number12\n",
            "num is less than 15\n"
          ]
        }
      ]
    },
    {
      "cell_type": "markdown",
      "source": [
        "Q.2 Take two numbers x and y as input from the user and check which numberisgreater?"
      ],
      "metadata": {
        "id": "Eu3Vrj0mjtqD"
      }
    },
    {
      "cell_type": "markdown",
      "source": [],
      "metadata": {
        "id": "lbebdh_ljM9N"
      }
    },
    {
      "cell_type": "code",
      "source": [
        "x=int(input(\"1st number\"))\n",
        "y=int(input(\"2nd number\"))\n",
        "if(x>y):\n",
        "  print(\"x is greater num\")\n",
        "else:\n",
        "  print(\"y is greater num\")c"
      ],
      "metadata": {
        "colab": {
          "base_uri": "https://localhost:8080/"
        },
        "id": "on6kFQDwhZnZ",
        "outputId": "1806dd53-50d3-4166-c7e2-af8c4ead9767"
      },
      "execution_count": 21,
      "outputs": [
        {
          "output_type": "stream",
          "name": "stdout",
          "text": [
            "1st number13\n",
            "2nd number45\n",
            "y is greater num\n"
          ]
        }
      ]
    },
    {
      "cell_type": "markdown",
      "source": [
        "Q.3 Take age of a candidate as input from the user and check if the candidate is eligible for voting or not?(voting age>=18years)"
      ],
      "metadata": {
        "id": "j10EcjbCvdkP"
      }
    },
    {
      "cell_type": "code",
      "source": [
        "age=int(input(\"enter age of candidate\"))\n",
        "if age>=18:\n",
        "  print(\"candidate is eligible for voting \")\n",
        "else:\n",
        "  print(\"candidate is not eligible for voting \")\n"
      ],
      "metadata": {
        "colab": {
          "base_uri": "https://localhost:8080/"
        },
        "id": "w7OMEIyAv4k4",
        "outputId": "1cfbe2ff-caf6-49ca-e1a9-e92db4754835"
      },
      "execution_count": 24,
      "outputs": [
        {
          "output_type": "stream",
          "name": "stdout",
          "text": [
            "enter age of candidate18\n",
            "candidate is eligible for voting \n"
          ]
        }
      ]
    },
    {
      "cell_type": "markdown",
      "source": [
        "Q.4 Take marks as input from the user and give grades to students in following format:\n",
        "marks more than or equal to 90--A\n",
        "marks more than or equal to 80--B\n",
        "marks more than or equal to 70--C\n",
        "marks more than or equal to 60-- D\n",
        "marks less than 60-- study hard"
      ],
      "metadata": {
        "id": "XZzUi4_Mw2yv"
      }
    },
    {
      "cell_type": "code",
      "source": [
        "marks = int(input(\"enter marks obtained\"))\n",
        "if marks>=90:\n",
        "  print(\"got A grade\")\n",
        "elif marks>=80:\n",
        "  print(\"got B grade\")\n",
        "elif marks>=70:\n",
        "  print(\"got C grade\")\n",
        "elif marks>=60:\n",
        "  print(\"got D grade\")\n",
        "else:\n",
        "  print(\"study hard\")"
      ],
      "metadata": {
        "colab": {
          "base_uri": "https://localhost:8080/"
        },
        "id": "t9pWKlxaxfwm",
        "outputId": "5a97b624-5c3f-4ce4-ef5b-64af31a877c2"
      },
      "execution_count": 26,
      "outputs": [
        {
          "output_type": "stream",
          "name": "stdout",
          "text": [
            "enter marks obtained59\n",
            "study hard\n"
          ]
        }
      ]
    },
    {
      "cell_type": "markdown",
      "source": [
        "Q.5 In a fare, the entry fee for children less than 4 years of age is free, the entry of children between 4 to 16 years is 100 rupees and the entry of people above 16 years is 175 rupees.\n",
        "\n",
        "Take age as input from the user and calculate the entry fee based on the age provided?"
      ],
      "metadata": {
        "id": "QKnGn9pozGRx"
      }
    },
    {
      "cell_type": "code",
      "source": [
        "age= int(input(\"enter age of person\"))\n",
        "if age<4:\n",
        "  print(\"entry fee is free\")\n",
        "elif age<=16:\n",
        "  print(\"entry fee is 100 rupees\")\n",
        "else:\n",
        "  print(\"entry fee is 175 rupees\")\n"
      ],
      "metadata": {
        "colab": {
          "base_uri": "https://localhost:8080/"
        },
        "id": "iFpFw-BazFXo",
        "outputId": "f6baed8e-dfbe-41c4-f9ac-0d7d34c0da97"
      },
      "execution_count": 31,
      "outputs": [
        {
          "output_type": "stream",
          "name": "stdout",
          "text": [
            "enter age of person12\n",
            "entry fee is 100 rupees\n"
          ]
        }
      ]
    },
    {
      "cell_type": "markdown",
      "source": [
        "Q.6 Take a number as input from the user and check if the numberis even or odd?\n"
      ],
      "metadata": {
        "id": "8ifop4VY1Nia"
      }
    },
    {
      "cell_type": "code",
      "source": [
        "num=int(input(\"enter a num\"))\n",
        "if num%2==0:\n",
        "  print(\"num is even\")\n",
        "else:\n",
        "  print(\"num is odd\")\n"
      ],
      "metadata": {
        "colab": {
          "base_uri": "https://localhost:8080/"
        },
        "id": "-R2e7c2j1hXr",
        "outputId": "981b6130-a493-4299-de0a-028ea14f8550"
      },
      "execution_count": 39,
      "outputs": [
        {
          "output_type": "stream",
          "name": "stdout",
          "text": [
            "enter a num56\n",
            "num is even\n"
          ]
        }
      ]
    },
    {
      "cell_type": "markdown",
      "source": [
        "Q.7 Take a number as input from the user and check if number is odd or not?"
      ],
      "metadata": {
        "id": "JLRoj1Gf4Kv5"
      }
    },
    {
      "cell_type": "code",
      "source": [
        "num=int(input(\"enter a num\"))\n",
        "if num%2==1:\n",
        "  print(\"num is odd\")\n",
        "else:\n",
        "  print(\"num is even\")\n"
      ],
      "metadata": {
        "colab": {
          "base_uri": "https://localhost:8080/"
        },
        "id": "r5WtSZvf4Ixm",
        "outputId": "e40dd859-3a95-49b4-e259-dc17c4d22c83"
      },
      "execution_count": 38,
      "outputs": [
        {
          "output_type": "stream",
          "name": "stdout",
          "text": [
            "enter a num63\n",
            "num is odd\n"
          ]
        }
      ]
    },
    {
      "cell_type": "markdown",
      "source": [
        "Q.8 The owner of a company decides to give a bonus of 5% to employees who have been working in this company for the past 5 years or more.\n",
        "\n",
        "Take current salary and years of experience with the current organization as input from the user and display the incremented salary."
      ],
      "metadata": {
        "id": "MTUNelb546cu"
      }
    },
    {
      "cell_type": "code",
      "source": [
        "current_salary=int(input(\"enter current salary \"))\n",
        "experience=int(input(\"enter year of experience \"))\n",
        "if experience>=5:\n",
        "  print(\"incremented salary is\", current_salary + 0.05*current_salary)\n",
        "else:\n",
        "  print(\"no increment in salary, your current salary is\", current_salary)"
      ],
      "metadata": {
        "colab": {
          "base_uri": "https://localhost:8080/"
        },
        "id": "dFKkaxBt5ijX",
        "outputId": "951fa7b3-c294-4760-8a85-8cbbb05709d7"
      },
      "execution_count": 40,
      "outputs": [
        {
          "output_type": "stream",
          "name": "stdout",
          "text": [
            "enter current salary 50000\n",
            "enter year of experience 6\n",
            "incremented salary is 52500.0\n"
          ]
        }
      ]
    },
    {
      "cell_type": "markdown",
      "source": [
        "Nested statement -- conditions\n",
        "\n",
        "Q.9 Take a number as input from the user and check if the number is greater than 10 or not. just in case the number is greater than 10, check if the number is greater than 20 also or not.\n"
      ],
      "metadata": {
        "id": "Pm7yOnKy4zzY"
      }
    },
    {
      "cell_type": "code",
      "source": [
        "x = int(input(\"enter a number\"))\n",
        "if x>10:\n",
        "  if x>20:\n",
        "    print(\"x is greater than 20\")\n",
        "  else:\n",
        "    print(\"x is less than 20 but greater than 10\")\n",
        "else:\n",
        "  print(\"x is less than 10\")"
      ],
      "metadata": {
        "colab": {
          "base_uri": "https://localhost:8080/"
        },
        "id": "97HrTgVI5Yvd",
        "outputId": "8ef63a47-aa24-4d6f-ec62-c066908b826c"
      },
      "execution_count": 4,
      "outputs": [
        {
          "output_type": "stream",
          "name": "stdout",
          "text": [
            "enter a number13\n",
            "x is less than 20 but greater than 10\n"
          ]
        }
      ]
    },
    {
      "cell_type": "markdown",
      "source": [
        "Q.10 Take a number as input from the user and check if the number is 0 or positive or negative using nested statements?"
      ],
      "metadata": {
        "id": "qGEzEevG6R9U"
      }
    },
    {
      "cell_type": "code",
      "source": [
        "x = int(input(\"enter a number\"))\n",
        "if x>=0:\n",
        "  if x>0:\n",
        "      print(\"x is positive number\")\n",
        "  else:\n",
        "      print(\"x is equal to 0\")\n",
        "else:\n",
        "  print(\"x is negative \")\n",
        ""
      ],
      "metadata": {
        "colab": {
          "base_uri": "https://localhost:8080/"
        },
        "id": "vZgPm1bf7ISR",
        "outputId": "da50a451-1011-4ecb-babf-f45c88113d94"
      },
      "execution_count": 9,
      "outputs": [
        {
          "output_type": "stream",
          "name": "stdout",
          "text": [
            "enter a number-7\n",
            "x is negative \n"
          ]
        }
      ]
    }
  ]
}