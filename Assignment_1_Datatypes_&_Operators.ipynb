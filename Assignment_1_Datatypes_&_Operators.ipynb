{
  "nbformat": 4,
  "nbformat_minor": 0,
  "metadata": {
    "colab": {
      "provenance": [],
      "authorship_tag": "ABX9TyMTgu/FiE4rvOHEOPuXW0Ry",
      "include_colab_link": true
    },
    "kernelspec": {
      "name": "python3",
      "display_name": "Python 3"
    },
    "language_info": {
      "name": "python"
    }
  },
  "cells": [
    {
      "cell_type": "markdown",
      "metadata": {
        "id": "view-in-github",
        "colab_type": "text"
      },
      "source": [
        "<a href=\"https://colab.research.google.com/github/monasin28/Python/blob/main/Assignment_1_Datatypes_%26_Operators.ipynb\" target=\"_parent\"><img src=\"https://colab.research.google.com/assets/colab-badge.svg\" alt=\"Open In Colab\"/></a>"
      ]
    },
    {
      "cell_type": "markdown",
      "source": [
        "1. What is the result of the following expression?"
      ],
      "metadata": {
        "id": "EmB2CHTCKaSA"
      }
    },
    {
      "cell_type": "code",
      "source": [
        "5+3*2"
      ],
      "metadata": {
        "colab": {
          "base_uri": "https://localhost:8080/"
        },
        "id": "I28SS4OwKlTZ",
        "outputId": "6ed55633-c8f7-4c98-be65-25f14e6c65c8"
      },
      "execution_count": 1,
      "outputs": [
        {
          "output_type": "execute_result",
          "data": {
            "text/plain": [
              "11"
            ]
          },
          "metadata": {},
          "execution_count": 1
        }
      ]
    },
    {
      "cell_type": "markdown",
      "source": [
        "2. What is the output of the following code?"
      ],
      "metadata": {
        "id": "-Uz19FZQKz8s"
      }
    },
    {
      "cell_type": "code",
      "source": [
        "x=5\n",
        "y=10\n",
        "x+=y\n",
        "print(x)"
      ],
      "metadata": {
        "colab": {
          "base_uri": "https://localhost:8080/"
        },
        "id": "CCOUKtUWK8ub",
        "outputId": "df1c821d-9ca4-42e1-995a-0f71d6aba2fe"
      },
      "execution_count": 2,
      "outputs": [
        {
          "output_type": "stream",
          "name": "stdout",
          "text": [
            "15\n"
          ]
        }
      ]
    },
    {
      "cell_type": "markdown",
      "source": [
        "3. Evaluate the following boolean expression:"
      ],
      "metadata": {
        "id": "32jGeUdbLLQv"
      }
    },
    {
      "cell_type": "code",
      "source": [
        "(10>5) and (not(5>10))"
      ],
      "metadata": {
        "colab": {
          "base_uri": "https://localhost:8080/"
        },
        "id": "FQ5nHGmDLSge",
        "outputId": "1442e80b-c760-4ac7-f55e-4bede53f38b3"
      },
      "execution_count": 3,
      "outputs": [
        {
          "output_type": "execute_result",
          "data": {
            "text/plain": [
              "True"
            ]
          },
          "metadata": {},
          "execution_count": 3
        }
      ]
    },
    {
      "cell_type": "markdown",
      "source": [
        "4. What is the result of the following division?"
      ],
      "metadata": {
        "id": "LmZbLnZALj8_"
      }
    },
    {
      "cell_type": "code",
      "source": [
        "7/2 #(float division)"
      ],
      "metadata": {
        "colab": {
          "base_uri": "https://localhost:8080/"
        },
        "id": "_7YEIRaDLwvv",
        "outputId": "3a484195-828b-4cac-8593-fdb40cac0da7"
      },
      "execution_count": 4,
      "outputs": [
        {
          "output_type": "execute_result",
          "data": {
            "text/plain": [
              "3.5"
            ]
          },
          "metadata": {},
          "execution_count": 4
        }
      ]
    },
    {
      "cell_type": "markdown",
      "source": [
        "5. What will be the value and type of 'x' after the following operation?"
      ],
      "metadata": {
        "id": "7KsQMQ5QL30-"
      }
    },
    {
      "cell_type": "code",
      "source": [
        "x= 4//2  #integer division\n",
        "print(x)"
      ],
      "metadata": {
        "colab": {
          "base_uri": "https://localhost:8080/"
        },
        "id": "Dy1NKmkBMDCN",
        "outputId": "96801168-aa93-4f23-d44b-0d6117e32638"
      },
      "execution_count": 29,
      "outputs": [
        {
          "output_type": "stream",
          "name": "stdout",
          "text": [
            "2\n"
          ]
        }
      ]
    },
    {
      "cell_type": "markdown",
      "source": [
        "6. What is the output of the following code?"
      ],
      "metadata": {
        "id": "w5G5isfLM_7u"
      }
    },
    {
      "cell_type": "code",
      "source": [
        "a=[1,2,3]\n",
        "b=a\n",
        "b[0]=4\n",
        "print(a)"
      ],
      "metadata": {
        "colab": {
          "base_uri": "https://localhost:8080/"
        },
        "id": "Fi59yWylNIZK",
        "outputId": "b9cee8a6-8db4-4629-c4df-05108cdca7fa"
      },
      "execution_count": 13,
      "outputs": [
        {
          "output_type": "stream",
          "name": "stdout",
          "text": [
            "[4, 2, 3]\n"
          ]
        }
      ]
    },
    {
      "cell_type": "markdown",
      "source": [
        "7. What does the following slice operation return?"
      ],
      "metadata": {
        "id": "-CeiGgs5NmQG"
      }
    },
    {
      "cell_type": "code",
      "source": [
        "s=\"hello\"\n",
        "print(s[1:4])"
      ],
      "metadata": {
        "colab": {
          "base_uri": "https://localhost:8080/"
        },
        "id": "r4dcu2iANu0C",
        "outputId": "28feaeb1-bc38-4d11-c0c0-6a5441143a21"
      },
      "execution_count": 14,
      "outputs": [
        {
          "output_type": "stream",
          "name": "stdout",
          "text": [
            "ell\n"
          ]
        }
      ]
    },
    {
      "cell_type": "markdown",
      "source": [
        "8.What will be the value of 'result'?"
      ],
      "metadata": {
        "id": "vYmKnpvaN_ne"
      }
    },
    {
      "cell_type": "code",
      "source": [
        "result= 2 ** 3 ** 2\n",
        "print(result)"
      ],
      "metadata": {
        "colab": {
          "base_uri": "https://localhost:8080/"
        },
        "id": "c1SzHNd6OtKB",
        "outputId": "d80741e9-bde3-47d8-83ac-bcf7b5b0069f"
      },
      "execution_count": 28,
      "outputs": [
        {
          "output_type": "stream",
          "name": "stdout",
          "text": [
            "512\n"
          ]
        }
      ]
    },
    {
      "cell_type": "markdown",
      "source": [
        "9.Given the list 'a = [1, 2, 3, 4, 5]', what will be the result of 'a[::-1]'?"
      ],
      "metadata": {
        "id": "XVE-z8ljO962"
      }
    },
    {
      "cell_type": "code",
      "source": [
        "a = [1, 2, 3, 4, 5]\n",
        "a[::-1]"
      ],
      "metadata": {
        "colab": {
          "base_uri": "https://localhost:8080/"
        },
        "id": "XmTRor08PZHn",
        "outputId": "8a1d2526-370a-43dd-c0fc-048b8bc6a7d6"
      },
      "execution_count": 20,
      "outputs": [
        {
          "output_type": "execute_result",
          "data": {
            "text/plain": [
              "[5, 4, 3, 2, 1]"
            ]
          },
          "metadata": {},
          "execution_count": 20
        }
      ]
    },
    {
      "cell_type": "markdown",
      "source": [
        "10. Evaluate the following expression:"
      ],
      "metadata": {
        "id": "JufJ2qRlPo9H"
      }
    },
    {
      "cell_type": "code",
      "source": [
        "10%3"
      ],
      "metadata": {
        "colab": {
          "base_uri": "https://localhost:8080/"
        },
        "id": "efNetUcPPuR-",
        "outputId": "abdc7e51-0129-4743-881e-41527bdc1259"
      },
      "execution_count": 21,
      "outputs": [
        {
          "output_type": "execute_result",
          "data": {
            "text/plain": [
              "1"
            ]
          },
          "metadata": {},
          "execution_count": 21
        }
      ]
    },
    {
      "cell_type": "markdown",
      "source": [
        "11. What is the result of the following code?"
      ],
      "metadata": {
        "id": "ESlL8Tr0Pzt6"
      }
    },
    {
      "cell_type": "code",
      "source": [
        "x=[1, 2, 3]\n",
        "y=[1, 2, 3]\n",
        "print(x==y)\n",
        "print(x is y)"
      ],
      "metadata": {
        "colab": {
          "base_uri": "https://localhost:8080/"
        },
        "id": "pEoaMwgQP5X9",
        "outputId": "58f2e46e-535e-44a9-a383-5472160ea868"
      },
      "execution_count": 22,
      "outputs": [
        {
          "output_type": "stream",
          "name": "stdout",
          "text": [
            "True\n",
            "False\n"
          ]
        }
      ]
    },
    {
      "cell_type": "markdown",
      "source": [
        "12. What is the output of the following code?"
      ],
      "metadata": {
        "id": "yDKDAJUYQL6B"
      }
    },
    {
      "cell_type": "code",
      "source": [
        "x=\"Python\"\n",
        "y=x*3\n",
        "print(y)"
      ],
      "metadata": {
        "colab": {
          "base_uri": "https://localhost:8080/"
        },
        "id": "X3p6GEqMQSa9",
        "outputId": "369a7854-2b50-4640-c14d-4fac98db1e27"
      },
      "execution_count": 23,
      "outputs": [
        {
          "output_type": "stream",
          "name": "stdout",
          "text": [
            "PythonPythonPython\n"
          ]
        }
      ]
    },
    {
      "cell_type": "markdown",
      "source": [
        "13. What is the type and value of 'x' after the following operation?"
      ],
      "metadata": {
        "id": "p9BqAAsyQhaN"
      }
    },
    {
      "cell_type": "code",
      "source": [
        "x = True + 1\n",
        "print(x)\n",
        "type(x)"
      ],
      "metadata": {
        "colab": {
          "base_uri": "https://localhost:8080/"
        },
        "id": "t1qxulDDQqu-",
        "outputId": "3c935f0e-b724-427a-9612-72e4f0defbe1"
      },
      "execution_count": 27,
      "outputs": [
        {
          "output_type": "stream",
          "name": "stdout",
          "text": [
            "2\n"
          ]
        },
        {
          "output_type": "execute_result",
          "data": {
            "text/plain": [
              "int"
            ]
          },
          "metadata": {},
          "execution_count": 27
        }
      ]
    },
    {
      "cell_type": "markdown",
      "source": [
        "14. What will be the output of the following comparison?\n"
      ],
      "metadata": {
        "id": "DTrQW8PYRDEk"
      }
    },
    {
      "cell_type": "code",
      "source": [
        "print('abc' < 'abd')"
      ],
      "metadata": {
        "colab": {
          "base_uri": "https://localhost:8080/"
        },
        "id": "x1clu_j6RLy5",
        "outputId": "ec2ab4bf-e63a-46c1-d50f-9b14f892c836"
      },
      "execution_count": 30,
      "outputs": [
        {
          "output_type": "stream",
          "name": "stdout",
          "text": [
            "True\n"
          ]
        }
      ]
    },
    {
      "cell_type": "markdown",
      "source": [
        "15. What is the result of the following code?"
      ],
      "metadata": {
        "id": "wo-ZML7uR164"
      }
    },
    {
      "cell_type": "code",
      "source": [
        "d={'a':1, 'b':2}\n",
        "d['c']=3\n",
        "print(d)"
      ],
      "metadata": {
        "colab": {
          "base_uri": "https://localhost:8080/"
        },
        "id": "fMVJFaWXR8Ch",
        "outputId": "9e096f05-25c8-4f0b-d755-5769bd401e1a"
      },
      "execution_count": 31,
      "outputs": [
        {
          "output_type": "stream",
          "name": "stdout",
          "text": [
            "{'a': 1, 'b': 2, 'c': 3}\n"
          ]
        }
      ]
    },
    {
      "cell_type": "markdown",
      "source": [
        "16. What will be the value of 'a' after the following operation?"
      ],
      "metadata": {
        "id": "PIdFigoiSNOk"
      }
    },
    {
      "cell_type": "code",
      "source": [
        "a = \"123\"\n",
        "a += \"456\"\n",
        "print(a)"
      ],
      "metadata": {
        "colab": {
          "base_uri": "https://localhost:8080/"
        },
        "id": "p8JIqdiNSZSf",
        "outputId": "3322fe0c-9270-4eaf-fc9c-b788228215f4"
      },
      "execution_count": 33,
      "outputs": [
        {
          "output_type": "stream",
          "name": "stdout",
          "text": [
            "123456\n"
          ]
        }
      ]
    },
    {
      "cell_type": "markdown",
      "source": [
        "17. What is the output of the following?"
      ],
      "metadata": {
        "id": "0QPVCW4JSxsr"
      }
    },
    {
      "cell_type": "code",
      "source": [
        "a = [1, 2, 3]\n",
        "b = a[:]\n",
        "b.append(4)\n",
        "print(a)\n",
        "print(b)"
      ],
      "metadata": {
        "colab": {
          "base_uri": "https://localhost:8080/"
        },
        "id": "fheE4nD1S6Gg",
        "outputId": "7ea0f6cd-2e09-4d0f-aef3-2614ac7c7b04"
      },
      "execution_count": 34,
      "outputs": [
        {
          "output_type": "stream",
          "name": "stdout",
          "text": [
            "[1, 2, 3]\n",
            "[1, 2, 3, 4]\n"
          ]
        }
      ]
    },
    {
      "cell_type": "markdown",
      "source": [
        "18. Evaluate the following expression:"
      ],
      "metadata": {
        "id": "LFasXltBT4IL"
      }
    },
    {
      "cell_type": "code",
      "source": [
        "3 * (2+4) ** 2"
      ],
      "metadata": {
        "colab": {
          "base_uri": "https://localhost:8080/"
        },
        "id": "o7EH4T8GUCGh",
        "outputId": "cfe040f6-d9ba-4d7c-9efd-571e10410b60"
      },
      "execution_count": 35,
      "outputs": [
        {
          "output_type": "execute_result",
          "data": {
            "text/plain": [
              "108"
            ]
          },
          "metadata": {},
          "execution_count": 35
        }
      ]
    },
    {
      "cell_type": "markdown",
      "source": [
        "19. What will be the result of the following comparison?"
      ],
      "metadata": {
        "id": "pvRQ_CTyUTW2"
      }
    },
    {
      "cell_type": "code",
      "source": [
        "print(5 == 5.0)"
      ],
      "metadata": {
        "colab": {
          "base_uri": "https://localhost:8080/"
        },
        "id": "xBSZ3oOjUeWJ",
        "outputId": "3a7be25d-0c53-4d1f-891d-a4550384afd2"
      },
      "execution_count": 36,
      "outputs": [
        {
          "output_type": "stream",
          "name": "stdout",
          "text": [
            "True\n"
          ]
        }
      ]
    },
    {
      "cell_type": "markdown",
      "source": [
        "20. What is the output of the following code?"
      ],
      "metadata": {
        "id": "avAkY1BqUnVb"
      }
    },
    {
      "cell_type": "code",
      "source": [
        "x = (1, 2, 3)\n",
        "y = x + (4,)\n",
        "print(y)"
      ],
      "metadata": {
        "colab": {
          "base_uri": "https://localhost:8080/"
        },
        "id": "ECNFG_HEUtv-",
        "outputId": "2b36ef0f-5f20-4595-c627-3540ef633fd9"
      },
      "execution_count": 37,
      "outputs": [
        {
          "output_type": "stream",
          "name": "stdout",
          "text": [
            "(1, 2, 3, 4)\n"
          ]
        }
      ]
    }
  ]
}