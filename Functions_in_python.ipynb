{
  "nbformat": 4,
  "nbformat_minor": 0,
  "metadata": {
    "colab": {
      "provenance": [],
      "authorship_tag": "ABX9TyM+XCQm+9sAhpQHnpFaLqpd",
      "include_colab_link": true
    },
    "kernelspec": {
      "name": "python3",
      "display_name": "Python 3"
    },
    "language_info": {
      "name": "python"
    }
  },
  "cells": [
    {
      "cell_type": "markdown",
      "metadata": {
        "id": "view-in-github",
        "colab_type": "text"
      },
      "source": [
        "<a href=\"https://colab.research.google.com/github/monasin28/Python/blob/main/Functions_in_python.ipynb\" target=\"_parent\"><img src=\"https://colab.research.google.com/assets/colab-badge.svg\" alt=\"Open In Colab\"/></a>"
      ]
    },
    {
      "cell_type": "markdown",
      "source": [
        "Functions in Python\n",
        "\n",
        "1. defining a function\n",
        "\n",
        "2. calling a functions"
      ],
      "metadata": {
        "id": "sY5yTWyplbPJ"
      }
    },
    {
      "cell_type": "markdown",
      "source": [
        "Create a function which takes two numbers and add them together"
      ],
      "metadata": {
        "id": "rWpfg_a2nF8s"
      }
    },
    {
      "cell_type": "code",
      "source": [
        "def add(a,b): #a&b are parameters (defining a function )\n",
        "  c = a+b\n",
        "  print(c)"
      ],
      "metadata": {
        "id": "3aMOCpQ4llx-"
      },
      "execution_count": 4,
      "outputs": []
    },
    {
      "cell_type": "code",
      "source": [
        "add(5,9) #5 & 9 are arguments (calling a function)"
      ],
      "metadata": {
        "colab": {
          "base_uri": "https://localhost:8080/"
        },
        "id": "REHAiElGl2H5",
        "outputId": "c838dd88-86ab-4a47-d9f6-651bf33475a0"
      },
      "execution_count": 2,
      "outputs": [
        {
          "output_type": "stream",
          "name": "stdout",
          "text": [
            "14\n"
          ]
        }
      ]
    },
    {
      "cell_type": "code",
      "source": [
        "add(19,6)"
      ],
      "metadata": {
        "colab": {
          "base_uri": "https://localhost:8080/"
        },
        "id": "yST3DkhYl8By",
        "outputId": "e43dc8e9-8c47-42b5-e029-440d3a4cf3a1"
      },
      "execution_count": 5,
      "outputs": [
        {
          "output_type": "stream",
          "name": "stdout",
          "text": [
            "25\n"
          ]
        }
      ]
    },
    {
      "cell_type": "code",
      "source": [
        "add(83,17)"
      ],
      "metadata": {
        "colab": {
          "base_uri": "https://localhost:8080/"
        },
        "id": "OBlhUqF-mQtO",
        "outputId": "fb6f7561-fef6-469b-901c-75e3edc23f82"
      },
      "execution_count": 6,
      "outputs": [
        {
          "output_type": "stream",
          "name": "stdout",
          "text": [
            "100\n"
          ]
        }
      ]
    },
    {
      "cell_type": "markdown",
      "source": [
        "Create a function on which takes two numbers and display the addition, subtraction, multiplication and division of these two numbers"
      ],
      "metadata": {
        "id": "oxWrNqW9nQsV"
      }
    },
    {
      "cell_type": "code",
      "source": [
        "def compute(a,b):\n",
        "  c=a+b\n",
        "  d=a-b\n",
        "  e=a*b\n",
        "  f=a/b\n",
        "  print(c, d, e, f)"
      ],
      "metadata": {
        "id": "NkEVA32DnhS5"
      },
      "execution_count": 7,
      "outputs": []
    },
    {
      "cell_type": "code",
      "source": [
        "compute(10,5)"
      ],
      "metadata": {
        "colab": {
          "base_uri": "https://localhost:8080/"
        },
        "id": "baVWgyPGoPi6",
        "outputId": "2a7f6af9-1890-4163-9938-1ae4a9fa921f"
      },
      "execution_count": 8,
      "outputs": [
        {
          "output_type": "stream",
          "name": "stdout",
          "text": [
            "15 5 50 2.0\n"
          ]
        }
      ]
    },
    {
      "cell_type": "code",
      "source": [
        "compute(52,12)"
      ],
      "metadata": {
        "colab": {
          "base_uri": "https://localhost:8080/"
        },
        "id": "oea8B45NoknZ",
        "outputId": "66e88557-7b4b-480a-ed4f-d9a8fea21e76"
      },
      "execution_count": 9,
      "outputs": [
        {
          "output_type": "stream",
          "name": "stdout",
          "text": [
            "64 40 624 4.333333333333333\n"
          ]
        }
      ]
    },
    {
      "cell_type": "markdown",
      "source": [
        "Create a function of which displays the name, age, and city of a candidate"
      ],
      "metadata": {
        "id": "huOAbk-RowSu"
      }
    },
    {
      "cell_type": "code",
      "source": [
        "def person(name, age, city):\n",
        "\n",
        "\n",
        "\n",
        "  print(name, age, city)"
      ],
      "metadata": {
        "id": "qR4R3yC-o57w"
      },
      "execution_count": 16,
      "outputs": []
    },
    {
      "cell_type": "code",
      "source": [
        "person(\"ankita\",18,\"kanpur\")"
      ],
      "metadata": {
        "colab": {
          "base_uri": "https://localhost:8080/"
        },
        "id": "ykzqtI5wplv5",
        "outputId": "9651a47d-0904-4e47-da4d-9492f4b94c2e"
      },
      "execution_count": 17,
      "outputs": [
        {
          "output_type": "stream",
          "name": "stdout",
          "text": [
            "ankita 18 kanpur\n"
          ]
        }
      ]
    },
    {
      "cell_type": "code",
      "source": [
        "person(\"ashi\", 23, \"noida\")"
      ],
      "metadata": {
        "colab": {
          "base_uri": "https://localhost:8080/"
        },
        "id": "X6aueMEJqaIH",
        "outputId": "36cd9db4-2c28-4088-ada8-ffadcc90c780"
      },
      "execution_count": 18,
      "outputs": [
        {
          "output_type": "stream",
          "name": "stdout",
          "text": [
            "ashi 23 noida\n"
          ]
        }
      ]
    },
    {
      "cell_type": "markdown",
      "source": [
        "Types of Arguments\n",
        "\n",
        "1. Positional arguments\n",
        "\n",
        "2. Default arguments\n",
        "\n",
        "3. Arbitrary arguments\n",
        "\n",
        "4. keyword arguments\n",
        "\n",
        "5. Arbitrary keyword arguments"
      ],
      "metadata": {
        "id": "D0VOsFjerfzj"
      }
    },
    {
      "cell_type": "code",
      "source": [
        "#Positional arguments\n",
        "def name(firstname, lastname):\n",
        "  print(\"Hi your first name is\", firstname)"
      ],
      "metadata": {
        "id": "BMIjQ-f_r7Zh"
      },
      "execution_count": 19,
      "outputs": []
    },
    {
      "cell_type": "code",
      "source": [
        "name(\"Ankita\", \"singh\")"
      ],
      "metadata": {
        "colab": {
          "base_uri": "https://localhost:8080/"
        },
        "id": "BzENxihpsi0w",
        "outputId": "8c20fb73-f92a-4eb8-bbe9-2a7f446886a0"
      },
      "execution_count": 20,
      "outputs": [
        {
          "output_type": "stream",
          "name": "stdout",
          "text": [
            "Hi your first name is Ankita\n"
          ]
        }
      ]
    },
    {
      "cell_type": "code",
      "source": [
        "#default arguments\n",
        "def greet(name, message=\"Hi, how are you?\"): #message is the default argument\n",
        "  print(name, message)"
      ],
      "metadata": {
        "id": "PfSxG472spn4"
      },
      "execution_count": 22,
      "outputs": []
    },
    {
      "cell_type": "code",
      "source": [
        "greet(\"Ankita\", \"good evening\")"
      ],
      "metadata": {
        "colab": {
          "base_uri": "https://localhost:8080/"
        },
        "id": "JiHg4NDztXxt",
        "outputId": "d97d6b55-96f0-44d0-c016-3a746d4e2752"
      },
      "execution_count": 24,
      "outputs": [
        {
          "output_type": "stream",
          "name": "stdout",
          "text": [
            "Ankita good evening\n"
          ]
        }
      ]
    },
    {
      "cell_type": "code",
      "source": [
        "greet(\"Ankita\",) #if we don't provide any message then by default it is hi,how are you"
      ],
      "metadata": {
        "colab": {
          "base_uri": "https://localhost:8080/"
        },
        "id": "j5pGl1U4tgs3",
        "outputId": "ca3db603-5fa0-4a2f-c482-9a08d64345b8"
      },
      "execution_count": 25,
      "outputs": [
        {
          "output_type": "stream",
          "name": "stdout",
          "text": [
            "Ankita Hi, how are you?\n"
          ]
        }
      ]
    },
    {
      "cell_type": "markdown",
      "source": [
        "Create a function which takes name and salary as input and incase the salary is not provided, use default salary as 25000. display the name and salary of individual"
      ],
      "metadata": {
        "id": "ZQG6ejn8uYbm"
      }
    },
    {
      "cell_type": "code",
      "source": [
        "def person(name, salary=25000):\n",
        "  print(name, salary)"
      ],
      "metadata": {
        "id": "fsRNqRCPusFi"
      },
      "execution_count": 4,
      "outputs": []
    },
    {
      "cell_type": "code",
      "source": [
        "person(\"Anuj\", )"
      ],
      "metadata": {
        "colab": {
          "base_uri": "https://localhost:8080/"
        },
        "id": "syah6XyAu7np",
        "outputId": "fed199ed-10ef-477e-fee5-669e58c19ce2"
      },
      "execution_count": 27,
      "outputs": [
        {
          "output_type": "stream",
          "name": "stdout",
          "text": [
            "Anuj 25000\n"
          ]
        }
      ]
    },
    {
      "cell_type": "code",
      "source": [
        "person(\"Anika\", 35000)"
      ],
      "metadata": {
        "colab": {
          "base_uri": "https://localhost:8080/"
        },
        "id": "uiTMFqSsvApq",
        "outputId": "e5e2fa98-5ffd-47ec-f2f9-39f1c67b63ef"
      },
      "execution_count": 5,
      "outputs": [
        {
          "output_type": "stream",
          "name": "stdout",
          "text": [
            "Anika 35000\n"
          ]
        }
      ]
    },
    {
      "cell_type": "code",
      "source": [
        "#keyword arguments\n",
        "def greet(name, age, message):\n",
        "  print(message, name, \"your age is\",age)"
      ],
      "metadata": {
        "id": "wXst4FT8vfyq"
      },
      "execution_count": 9,
      "outputs": []
    },
    {
      "cell_type": "code",
      "source": [
        "greet(name=\"Ankita\", age= 24, message=\"good day\") #while calling the function, we need to provide the input in key-value format as same as in dictionaries but here we don't use colon"
      ],
      "metadata": {
        "colab": {
          "base_uri": "https://localhost:8080/"
        },
        "id": "i0jC0hyGwNAL",
        "outputId": "376e088e-49ef-4d4f-c5ec-cb06080a27d6"
      },
      "execution_count": 10,
      "outputs": [
        {
          "output_type": "stream",
          "name": "stdout",
          "text": [
            "good day Ankita your age is 24\n"
          ]
        }
      ]
    },
    {
      "cell_type": "code",
      "source": [
        "greet(message=\"How are you?\", name=\"meera\", age=98)"
      ],
      "metadata": {
        "colab": {
          "base_uri": "https://localhost:8080/"
        },
        "id": "yuK_LM2RxXLz",
        "outputId": "b5257570-817c-4fcb-dbc1-b1abadd331ae"
      },
      "execution_count": 11,
      "outputs": [
        {
          "output_type": "stream",
          "name": "stdout",
          "text": [
            "How are you? meera your age is 98\n"
          ]
        }
      ]
    },
    {
      "cell_type": "code",
      "source": [
        "##arbitrary arguments -- to symbolically define arbitrary argument we use *args\n",
        "def add(*args): #in arbitrary argument default type is tuple\n",
        "  print(type(args)) #in arbitrary arguments instead of using same function again and again, we create function for once and keep on providing vales to it\n",
        "  print(args)\n",
        "\n",
        "  sum=0\n",
        "  for num in args:\n",
        "    sum=sum+num\n",
        "  return sum"
      ],
      "metadata": {
        "id": "19rhMiz1xr-o"
      },
      "execution_count": 20,
      "outputs": []
    },
    {
      "cell_type": "code",
      "source": [
        "add(3,4)"
      ],
      "metadata": {
        "colab": {
          "base_uri": "https://localhost:8080/"
        },
        "id": "jLvVpHQUzAyh",
        "outputId": "5b8765df-6c0c-4aca-d54e-ccdc539ef503"
      },
      "execution_count": 2,
      "outputs": [
        {
          "output_type": "stream",
          "name": "stdout",
          "text": [
            "<class 'tuple'>\n",
            "(3, 4)\n"
          ]
        },
        {
          "output_type": "execute_result",
          "data": {
            "text/plain": [
              "7"
            ]
          },
          "metadata": {},
          "execution_count": 2
        }
      ]
    },
    {
      "cell_type": "code",
      "source": [
        "add(3,8,9,-3,-5,12)"
      ],
      "metadata": {
        "colab": {
          "base_uri": "https://localhost:8080/"
        },
        "id": "VGBi3LJfzN_k",
        "outputId": "0169c978-137b-400d-b499-4bfe43366d5d"
      },
      "execution_count": 3,
      "outputs": [
        {
          "output_type": "stream",
          "name": "stdout",
          "text": [
            "<class 'tuple'>\n",
            "(3, 8, 9, -3, -5, 12)\n"
          ]
        },
        {
          "output_type": "execute_result",
          "data": {
            "text/plain": [
              "24"
            ]
          },
          "metadata": {},
          "execution_count": 3
        }
      ]
    },
    {
      "cell_type": "markdown",
      "source": [],
      "metadata": {
        "id": "TIQIm9k2sDoH"
      }
    },
    {
      "cell_type": "code",
      "source": [
        "def func(a,b,*args):\n",
        "  print(a)\n",
        "  print(b)\n",
        "  print(args)"
      ],
      "metadata": {
        "id": "y8XlWezUqF-q"
      },
      "execution_count": 17,
      "outputs": []
    },
    {
      "cell_type": "code",
      "source": [
        "func(5,7,5,6,8,9,4,5)"
      ],
      "metadata": {
        "colab": {
          "base_uri": "https://localhost:8080/"
        },
        "id": "bySvhdkpqcZU",
        "outputId": "6c4083c1-437e-4778-ef59-ccf5a9152858"
      },
      "execution_count": 19,
      "outputs": [
        {
          "output_type": "stream",
          "name": "stdout",
          "text": [
            "5\n",
            "7\n",
            "(5, 6, 8, 9, 4, 5)\n"
          ]
        }
      ]
    },
    {
      "cell_type": "markdown",
      "source": [
        "Arbitrary keyword argument"
      ],
      "metadata": {
        "id": "ciDllYXcrLOj"
      }
    },
    {
      "cell_type": "code",
      "source": [
        "#in arbitrary keyboard argument we use ---*kwargs, default type is dictionary\n",
        "\n",
        "def display(**kwargs):\n",
        "  print(type(kwargs))\n",
        "  print(kwargs)\n",
        "\n",
        "  for key, value in kwargs.items():\n",
        "    print(key,\"-->\",value)"
      ],
      "metadata": {
        "id": "DfhPTAoorRk3"
      },
      "execution_count": 25,
      "outputs": []
    },
    {
      "cell_type": "code",
      "source": [
        "display(name=\"Ankita\",age=99, city=\"mumbai\")"
      ],
      "metadata": {
        "colab": {
          "base_uri": "https://localhost:8080/"
        },
        "id": "XVpHLRnPs16d",
        "outputId": "423241f5-d792-4e7f-dfc7-5301bd200d77"
      },
      "execution_count": 26,
      "outputs": [
        {
          "output_type": "stream",
          "name": "stdout",
          "text": [
            "<class 'dict'>\n",
            "{'name': 'Ankita', 'age': 99, 'city': 'mumbai'}\n",
            "name --> Ankita\n",
            "age --> 99\n",
            "city --> mumbai\n"
          ]
        }
      ]
    }
  ]
}