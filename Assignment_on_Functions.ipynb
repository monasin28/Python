{
  "nbformat": 4,
  "nbformat_minor": 0,
  "metadata": {
    "colab": {
      "provenance": [],
      "include_colab_link": true
    },
    "kernelspec": {
      "name": "python3",
      "display_name": "Python 3"
    },
    "language_info": {
      "name": "python"
    }
  },
  "cells": [
    {
      "cell_type": "markdown",
      "metadata": {
        "id": "view-in-github",
        "colab_type": "text"
      },
      "source": [
        "<a href=\"https://colab.research.google.com/github/monasin28/Python/blob/main/Assignment_on_Functions.ipynb\" target=\"_parent\"><img src=\"https://colab.research.google.com/assets/colab-badge.svg\" alt=\"Open In Colab\"/></a>"
      ]
    },
    {
      "cell_type": "markdown",
      "source": [
        "Define a function that accepts a number and returns whether the number is even or odd."
      ],
      "metadata": {
        "id": "SA0zwy1HTiK-"
      }
    },
    {
      "cell_type": "code",
      "source": [
        "def check_even_odd(number):\n",
        "  if number % 2 == 0:\n",
        "    return \"Even\"\n",
        "  else:\n",
        "    return \"Odd\"\n",
        "num = 45\n",
        "result = check_even_odd(num)\n",
        "\n",
        "print(f\"{num} is {result}\")"
      ],
      "metadata": {
        "id": "QYp14SD5p2cw",
        "colab": {
          "base_uri": "https://localhost:8080/"
        },
        "outputId": "4b8ee6a3-3e0d-45da-a421-f455e5048654"
      },
      "execution_count": 9,
      "outputs": [
        {
          "output_type": "stream",
          "name": "stdout",
          "text": [
            "45 is Odd\n"
          ]
        }
      ]
    },
    {
      "cell_type": "markdown",
      "source": [
        "Define a function to create and print a list where the values are square of numbers between 1 and 30 (both included)."
      ],
      "metadata": {
        "id": "eFB9qeBSTxRd"
      }
    },
    {
      "cell_type": "code",
      "source": [
        "def print_square_numbers():\n",
        "  square_numbers = [x ** 2 for x in range(1, 31)]\n",
        "  print(square_numbers)\n",
        "print_square_numbers()"
      ],
      "metadata": {
        "id": "xoZ8le6R3zmW",
        "colab": {
          "base_uri": "https://localhost:8080/"
        },
        "outputId": "96951ea4-585d-4a8c-b99f-ed6825cdbe6e"
      },
      "execution_count": 11,
      "outputs": [
        {
          "output_type": "stream",
          "name": "stdout",
          "text": [
            "[1, 4, 9, 16, 25, 36, 49, 64, 81, 100, 121, 144, 169, 196, 225, 256, 289, 324, 361, 400, 441, 484, 529, 576, 625, 676, 729, 784, 841, 900]\n"
          ]
        }
      ]
    },
    {
      "cell_type": "markdown",
      "source": [
        "Define a function, shut_down, that takes one parameter. Then, if the shut_down function receives a value equal to \"yes\", it should print \"Shutting down\". Alternatively, if vallue is equal to \"no\", then the function should print \"Shutdown aborted\". Finally, if shut_down gets anything other than those inputs, the function should print \"Sorry\"."
      ],
      "metadata": {
        "id": "WPKsEW0dUIZF"
      }
    },
    {
      "cell_type": "code",
      "source": [
        "def shut_down(s):\n",
        "  if s.lower() == \"yes\":\n",
        "    print(\"Shutting down\")\n",
        "  elif s.lower() == \"no\":\n",
        "    print(\"Shutdown aborted\")\n",
        "  else:\n",
        "    print(\"Sorry\") # Example usage:\n",
        "shut_down(\"yes\")\n",
        "shut_down(\"no\")\n",
        "shut_down(\"maybe\")"
      ],
      "metadata": {
        "id": "BErvgTSlp4BA",
        "colab": {
          "base_uri": "https://localhost:8080/"
        },
        "outputId": "62dfee77-25e8-4344-9a12-53a0b76ac65a"
      },
      "execution_count": 12,
      "outputs": [
        {
          "output_type": "stream",
          "name": "stdout",
          "text": [
            "Shutting down\n",
            "Shutdown aborted\n",
            "Sorry\n"
          ]
        }
      ]
    },
    {
      "cell_type": "markdown",
      "source": [
        "\n",
        "\n",
        "Define a function called \"by_three\" that takes a parameter called number. If that number is divisible by 3, \"by_three\" should print the cube of the number. Otherwise, by_three should print False."
      ],
      "metadata": {
        "id": "KosfqTW8Ur_1"
      }
    },
    {
      "cell_type": "code",
      "source": [
        "def by_three(number):\n",
        "  if number % 3 == 0:\n",
        "    print(number ** 3)\n",
        "  else:\n",
        "    print(False)\n",
        "     # Example usage:\n",
        "by_three(9)\n",
        "by_three(10)"
      ],
      "metadata": {
        "id": "ma_rcX6sp4nW",
        "colab": {
          "base_uri": "https://localhost:8080/"
        },
        "outputId": "71ce5a7b-a64f-496e-bdf3-b3b030634950"
      },
      "execution_count": 14,
      "outputs": [
        {
          "output_type": "stream",
          "name": "stdout",
          "text": [
            "729\n",
            "False\n"
          ]
        }
      ]
    },
    {
      "cell_type": "markdown",
      "source": [
        "Define a function that takes a list and prints a new list with no duplicate elements given in the first list."
      ],
      "metadata": {
        "id": "EWbQXeU5WpdZ"
      }
    },
    {
      "cell_type": "code",
      "source": [
        "def remove_duplicates(input_list):\n",
        "  unique_list = list(set(input_list))\n",
        "  print(unique_list)\n",
        "\n",
        "sample_list = [1, 2, 2, 3, 4, 4, 5]\n",
        "\n",
        "remove_duplicates(sample_list)"
      ],
      "metadata": {
        "id": "BAtCg5oY33BO",
        "colab": {
          "base_uri": "https://localhost:8080/"
        },
        "outputId": "74992228-336e-4b20-a185-4cf87edea22c"
      },
      "execution_count": 16,
      "outputs": [
        {
          "output_type": "stream",
          "name": "stdout",
          "text": [
            "[1, 2, 3, 4, 5]\n"
          ]
        }
      ]
    }
  ]
}