{
  "nbformat": 4,
  "nbformat_minor": 0,
  "metadata": {
    "colab": {
      "provenance": [],
      "authorship_tag": "ABX9TyOxQtJV8PsXBJlkCIXTB6AW",
      "include_colab_link": true
    },
    "kernelspec": {
      "name": "python3",
      "display_name": "Python 3"
    },
    "language_info": {
      "name": "python"
    }
  },
  "cells": [
    {
      "cell_type": "markdown",
      "metadata": {
        "id": "view-in-github",
        "colab_type": "text"
      },
      "source": [
        "<a href=\"https://colab.research.google.com/github/monasin28/Python/blob/main/Datatypes_in_Python.ipynb\" target=\"_parent\"><img src=\"https://colab.research.google.com/assets/colab-badge.svg\" alt=\"Open In Colab\"/></a>"
      ]
    },
    {
      "cell_type": "markdown",
      "source": [
        "We are learning different datatypes in python\n"
      ],
      "metadata": {
        "id": "R0HPChKY5DqA"
      }
    },
    {
      "cell_type": "code",
      "source": [
        "#comments--comments are not the part of executable code, they are added to increase the readibility of code"
      ],
      "metadata": {
        "id": "NjGMTN6S5poF"
      },
      "execution_count": null,
      "outputs": []
    },
    {
      "cell_type": "code",
      "source": [
        "a=155"
      ],
      "metadata": {
        "id": "9UGIk8sU6DPs"
      },
      "execution_count": null,
      "outputs": []
    },
    {
      "cell_type": "code",
      "source": [
        "print(a)"
      ],
      "metadata": {
        "colab": {
          "base_uri": "https://localhost:8080/"
        },
        "id": "L8_4JBLc6WgB",
        "outputId": "c8378066-4339-4e74-e8d4-113a11afb8b9"
      },
      "execution_count": null,
      "outputs": [
        {
          "output_type": "stream",
          "name": "stdout",
          "text": [
            "155\n"
          ]
        }
      ]
    },
    {
      "cell_type": "markdown",
      "source": [],
      "metadata": {
        "id": "S6FE2Ylr2WI1"
      }
    },
    {
      "cell_type": "code",
      "source": [
        "type(a)"
      ],
      "metadata": {
        "colab": {
          "base_uri": "https://localhost:8080/"
        },
        "id": "OErpXTEG6aoR",
        "outputId": "5d18e9c9-509c-4b63-cebd-93262db6b7c8"
      },
      "execution_count": null,
      "outputs": [
        {
          "output_type": "execute_result",
          "data": {
            "text/plain": [
              "int"
            ]
          },
          "metadata": {},
          "execution_count": 3
        }
      ]
    },
    {
      "cell_type": "code",
      "source": [
        "c=-4.9"
      ],
      "metadata": {
        "id": "Rc4XdT4U6jAC"
      },
      "execution_count": null,
      "outputs": []
    },
    {
      "cell_type": "markdown",
      "source": [],
      "metadata": {
        "id": "8u-T8uVz6pdx"
      }
    },
    {
      "cell_type": "code",
      "source": [
        "print(c)"
      ],
      "metadata": {
        "colab": {
          "base_uri": "https://localhost:8080/"
        },
        "id": "lmX73e_U6p7q",
        "outputId": "0c3fcc7d-1ea2-40f1-8eba-490093ed9360"
      },
      "execution_count": null,
      "outputs": [
        {
          "output_type": "stream",
          "name": "stdout",
          "text": [
            "-4.9\n"
          ]
        }
      ]
    },
    {
      "cell_type": "code",
      "source": [
        "type(c)"
      ],
      "metadata": {
        "colab": {
          "base_uri": "https://localhost:8080/"
        },
        "id": "w6q5GjRM6vTW",
        "outputId": "86d51ab9-c6d6-4b6d-e0f7-017cff2793a5"
      },
      "execution_count": null,
      "outputs": [
        {
          "output_type": "execute_result",
          "data": {
            "text/plain": [
              "float"
            ]
          },
          "metadata": {},
          "execution_count": 6
        }
      ]
    },
    {
      "cell_type": "code",
      "source": [
        "d= 3+5j"
      ],
      "metadata": {
        "id": "i4d1s3s860do"
      },
      "execution_count": null,
      "outputs": []
    },
    {
      "cell_type": "code",
      "source": [
        "print(d)"
      ],
      "metadata": {
        "colab": {
          "base_uri": "https://localhost:8080/",
          "height": 141
        },
        "id": "gAT6S1eg6-Px",
        "outputId": "d956de4d-5f41-441b-931e-63a7077c86a4"
      },
      "execution_count": null,
      "outputs": [
        {
          "output_type": "error",
          "ename": "NameError",
          "evalue": "name 'd' is not defined",
          "traceback": [
            "\u001b[0;31m---------------------------------------------------------------------------\u001b[0m",
            "\u001b[0;31mNameError\u001b[0m                                 Traceback (most recent call last)",
            "\u001b[0;32m<ipython-input-7-85549cb1de5f>\u001b[0m in \u001b[0;36m<cell line: 1>\u001b[0;34m()\u001b[0m\n\u001b[0;32m----> 1\u001b[0;31m \u001b[0mprint\u001b[0m\u001b[0;34m(\u001b[0m\u001b[0md\u001b[0m\u001b[0;34m)\u001b[0m\u001b[0;34m\u001b[0m\u001b[0;34m\u001b[0m\u001b[0m\n\u001b[0m",
            "\u001b[0;31mNameError\u001b[0m: name 'd' is not defined"
          ]
        }
      ]
    },
    {
      "cell_type": "code",
      "source": [
        "d= 5+6j"
      ],
      "metadata": {
        "id": "U_CyNv447EC8"
      },
      "execution_count": null,
      "outputs": []
    },
    {
      "cell_type": "code",
      "source": [
        "print(d)"
      ],
      "metadata": {
        "colab": {
          "base_uri": "https://localhost:8080/"
        },
        "id": "v6nXvunI7IGa",
        "outputId": "4c4a49e8-74cc-40ba-e906-e745c235e210"
      },
      "execution_count": null,
      "outputs": [
        {
          "output_type": "stream",
          "name": "stdout",
          "text": [
            "(5+6j)\n"
          ]
        }
      ]
    },
    {
      "cell_type": "code",
      "source": [
        "type(d)"
      ],
      "metadata": {
        "colab": {
          "base_uri": "https://localhost:8080/"
        },
        "id": "QLoZw96c7LrK",
        "outputId": "810186eb-ac08-4eea-9723-db5e50dfba16"
      },
      "execution_count": null,
      "outputs": [
        {
          "output_type": "execute_result",
          "data": {
            "text/plain": [
              "complex"
            ]
          },
          "metadata": {},
          "execution_count": 10
        }
      ]
    },
    {
      "cell_type": "code",
      "source": [
        "e= \"Indian Ocean \""
      ],
      "metadata": {
        "id": "vnKwP9Q87Y68"
      },
      "execution_count": null,
      "outputs": []
    },
    {
      "cell_type": "code",
      "source": [
        "print(e)"
      ],
      "metadata": {
        "colab": {
          "base_uri": "https://localhost:8080/"
        },
        "id": "IDcfKed27khy",
        "outputId": "ad15a23d-5843-4606-c0c7-f1596ef8d54e"
      },
      "execution_count": null,
      "outputs": [
        {
          "output_type": "stream",
          "name": "stdout",
          "text": [
            "Indian Ocean \n"
          ]
        }
      ]
    },
    {
      "cell_type": "code",
      "source": [
        "type(e)"
      ],
      "metadata": {
        "colab": {
          "base_uri": "https://localhost:8080/"
        },
        "id": "8luOpemJ7nxa",
        "outputId": "bbcf3bee-92b3-44b6-c119-1f33d0843029"
      },
      "execution_count": null,
      "outputs": [
        {
          "output_type": "execute_result",
          "data": {
            "text/plain": [
              "str"
            ]
          },
          "metadata": {},
          "execution_count": 13
        }
      ]
    },
    {
      "cell_type": "code",
      "source": [
        "my_list=[\"apple\", 46, \"orange\"]"
      ],
      "metadata": {
        "id": "LSpWC7my7yCn"
      },
      "execution_count": null,
      "outputs": []
    },
    {
      "cell_type": "code",
      "source": [
        "print(my_list)"
      ],
      "metadata": {
        "colab": {
          "base_uri": "https://localhost:8080/"
        },
        "id": "AFphSxgG8ElI",
        "outputId": "3a634ede-84cf-4705-8bb9-61d83c436eec"
      },
      "execution_count": null,
      "outputs": [
        {
          "output_type": "stream",
          "name": "stdout",
          "text": [
            "['apple', 46, 'orange']\n"
          ]
        }
      ]
    },
    {
      "cell_type": "code",
      "source": [
        "type(my_list)"
      ],
      "metadata": {
        "colab": {
          "base_uri": "https://localhost:8080/"
        },
        "id": "9es4h3A-8KLI",
        "outputId": "e6d299cd-cf06-4e74-b0d1-437de2d983dd"
      },
      "execution_count": null,
      "outputs": [
        {
          "output_type": "execute_result",
          "data": {
            "text/plain": [
              "list"
            ]
          },
          "metadata": {},
          "execution_count": 18
        }
      ]
    },
    {
      "cell_type": "code",
      "source": [
        "product=(\"apple\", 65, -45, \"grapes\")"
      ],
      "metadata": {
        "id": "yZ2m2AMc8RLw"
      },
      "execution_count": null,
      "outputs": []
    },
    {
      "cell_type": "code",
      "source": [
        "print(product)"
      ],
      "metadata": {
        "colab": {
          "base_uri": "https://localhost:8080/"
        },
        "id": "7F-gpzgv8oXy",
        "outputId": "72d82017-2cf9-4bec-eef2-8173486770b7"
      },
      "execution_count": null,
      "outputs": [
        {
          "output_type": "stream",
          "name": "stdout",
          "text": [
            "('apple', 65, -45, 'grapes')\n"
          ]
        }
      ]
    },
    {
      "cell_type": "code",
      "source": [
        "type(product)"
      ],
      "metadata": {
        "colab": {
          "base_uri": "https://localhost:8080/"
        },
        "id": "BKZLvdUK8s8y",
        "outputId": "4c42e6ce-a881-424c-e418-94299623975d"
      },
      "execution_count": null,
      "outputs": [
        {
          "output_type": "execute_result",
          "data": {
            "text/plain": [
              "tuple"
            ]
          },
          "metadata": {},
          "execution_count": 22
        }
      ]
    },
    {
      "cell_type": "markdown",
      "source": [
        "operation in list and strings\n",
        "1.concatination\n",
        "2.indexing\n",
        "3.slicing"
      ],
      "metadata": {
        "id": "j3FCIGl8Qe0e"
      }
    },
    {
      "cell_type": "code",
      "source": [
        "#concatination in strings\n",
        "a= 'My'\n",
        "b= 'desktop'"
      ],
      "metadata": {
        "id": "qyd4HWlBQr3l"
      },
      "execution_count": null,
      "outputs": []
    },
    {
      "cell_type": "code",
      "source": [
        "print(a + b)"
      ],
      "metadata": {
        "colab": {
          "base_uri": "https://localhost:8080/"
        },
        "id": "CrsLfAYGQ4l3",
        "outputId": "3c4eec6d-8f4d-43b7-e683-43f78afb5267"
      },
      "execution_count": null,
      "outputs": [
        {
          "output_type": "stream",
          "name": "stdout",
          "text": [
            "Mydesktop\n"
          ]
        }
      ]
    },
    {
      "cell_type": "code",
      "source": [
        "print(a + ' ' + b)"
      ],
      "metadata": {
        "colab": {
          "base_uri": "https://localhost:8080/"
        },
        "id": "HrpaiUpPRANn",
        "outputId": "ece5f2f1-c5d9-4a2b-8eef-482c98d52c97"
      },
      "execution_count": null,
      "outputs": [
        {
          "output_type": "stream",
          "name": "stdout",
          "text": [
            "My desktop\n"
          ]
        }
      ]
    },
    {
      "cell_type": "markdown",
      "source": [],
      "metadata": {
        "id": "pNbS_YR8SJ7m"
      }
    },
    {
      "cell_type": "code",
      "source": [
        "firstname= 'Ankita'\n",
        "middlename= 'singh'\n",
        "surname= 'gangwar'"
      ],
      "metadata": {
        "id": "5qM8VS4MRV-J"
      },
      "execution_count": null,
      "outputs": []
    },
    {
      "cell_type": "code",
      "source": [
        "print (firstname+' '+middlename+' '+surname)"
      ],
      "metadata": {
        "colab": {
          "base_uri": "https://localhost:8080/"
        },
        "id": "31vmo8obRn8F",
        "outputId": "40bd79e5-1e8a-44ed-b90d-d3e0278a332a"
      },
      "execution_count": null,
      "outputs": [
        {
          "output_type": "stream",
          "name": "stdout",
          "text": [
            "Ankita singh gangwar\n"
          ]
        }
      ]
    },
    {
      "cell_type": "code",
      "source": [
        "#concatination in list\n",
        "l1= [3,-5,7,8.9,-6.3]\n",
        "l2=['Apple','orangle']"
      ],
      "metadata": {
        "id": "1g-FLLEjSMRr"
      },
      "execution_count": null,
      "outputs": []
    },
    {
      "cell_type": "code",
      "source": [
        "print(l1+l2)"
      ],
      "metadata": {
        "colab": {
          "base_uri": "https://localhost:8080/"
        },
        "id": "1O58cbtgSp37",
        "outputId": "fb3a956b-5029-45dd-d8a1-714619cfb78d"
      },
      "execution_count": null,
      "outputs": [
        {
          "output_type": "stream",
          "name": "stdout",
          "text": [
            "[3, -5, 7, 8.9, -6.3, 'Apple', 'orangle']\n"
          ]
        }
      ]
    },
    {
      "cell_type": "code",
      "source": [
        "print(l2+l1)"
      ],
      "metadata": {
        "colab": {
          "base_uri": "https://localhost:8080/"
        },
        "id": "wv3U2HvOTB-y",
        "outputId": "fc1e78fd-52a3-4919-a531-3d26f1360c9c"
      },
      "execution_count": null,
      "outputs": [
        {
          "output_type": "stream",
          "name": "stdout",
          "text": [
            "['Apple', 'orangle', 3, -5, 7, 8.9, -6.3]\n"
          ]
        }
      ]
    },
    {
      "cell_type": "code",
      "source": [
        "#indexing in strings\n",
        "word= 'Indian Ocean'"
      ],
      "metadata": {
        "id": "exsSodziTKDy"
      },
      "execution_count": null,
      "outputs": []
    },
    {
      "cell_type": "code",
      "source": [
        "word[7]"
      ],
      "metadata": {
        "colab": {
          "base_uri": "https://localhost:8080/",
          "height": 35
        },
        "id": "qL1ShYe8VpOc",
        "outputId": "650d9ae9-374c-4ada-bf97-2ecb2a7eaa27"
      },
      "execution_count": null,
      "outputs": [
        {
          "output_type": "execute_result",
          "data": {
            "text/plain": [
              "'O'"
            ],
            "application/vnd.google.colaboratory.intrinsic+json": {
              "type": "string"
            }
          },
          "metadata": {},
          "execution_count": 36
        }
      ]
    },
    {
      "cell_type": "code",
      "source": [
        "word[6]"
      ],
      "metadata": {
        "colab": {
          "base_uri": "https://localhost:8080/",
          "height": 35
        },
        "id": "ccFPpEvPWJtj",
        "outputId": "894798c7-5de0-4a7d-c5d3-7592fdddf759"
      },
      "execution_count": null,
      "outputs": [
        {
          "output_type": "execute_result",
          "data": {
            "text/plain": [
              "' '"
            ],
            "application/vnd.google.colaboratory.intrinsic+json": {
              "type": "string"
            }
          },
          "metadata": {},
          "execution_count": 37
        }
      ]
    },
    {
      "cell_type": "code",
      "source": [
        "word[-9]"
      ],
      "metadata": {
        "colab": {
          "base_uri": "https://localhost:8080/",
          "height": 35
        },
        "id": "o31hvgF7WNGI",
        "outputId": "aaee1b14-06f2-4e4a-bb3f-2d4fcdcc5946"
      },
      "execution_count": null,
      "outputs": [
        {
          "output_type": "execute_result",
          "data": {
            "text/plain": [
              "'i'"
            ],
            "application/vnd.google.colaboratory.intrinsic+json": {
              "type": "string"
            }
          },
          "metadata": {},
          "execution_count": 38
        }
      ]
    },
    {
      "cell_type": "code",
      "source": [
        "#indexing in list\n",
        "L1 = [23,-87, 8.9, 45.87, 8.1,-6.7, 'Egg', 'salt']"
      ],
      "metadata": {
        "id": "78U5sl9BWUU-"
      },
      "execution_count": null,
      "outputs": []
    },
    {
      "cell_type": "code",
      "source": [
        "L1[5]"
      ],
      "metadata": {
        "colab": {
          "base_uri": "https://localhost:8080/"
        },
        "id": "T4XSryq5Wr65",
        "outputId": "829b68c6-6aa9-44eb-c5e3-b568a90bd28f"
      },
      "execution_count": null,
      "outputs": [
        {
          "output_type": "execute_result",
          "data": {
            "text/plain": [
              "-6.7"
            ]
          },
          "metadata": {},
          "execution_count": 40
        }
      ]
    },
    {
      "cell_type": "code",
      "source": [
        "L1[-2]"
      ],
      "metadata": {
        "colab": {
          "base_uri": "https://localhost:8080/",
          "height": 35
        },
        "id": "WeFOSDg4WzLz",
        "outputId": "946d2d7c-e60d-427e-c8e5-f8e4cb464e7c"
      },
      "execution_count": null,
      "outputs": [
        {
          "output_type": "execute_result",
          "data": {
            "text/plain": [
              "'Egg'"
            ],
            "application/vnd.google.colaboratory.intrinsic+json": {
              "type": "string"
            }
          },
          "metadata": {},
          "execution_count": 41
        }
      ]
    },
    {
      "cell_type": "code",
      "source": [
        "#fetching e from egg\n",
        "a=L1[-2]"
      ],
      "metadata": {
        "id": "MTtUbcf8XgNz"
      },
      "execution_count": null,
      "outputs": []
    },
    {
      "cell_type": "code",
      "source": [
        "print(a)"
      ],
      "metadata": {
        "colab": {
          "base_uri": "https://localhost:8080/"
        },
        "id": "i6KMctRHXxpl",
        "outputId": "554357a5-4709-48e6-c22f-c15ee4831eb8"
      },
      "execution_count": null,
      "outputs": [
        {
          "output_type": "stream",
          "name": "stdout",
          "text": [
            "Egg\n"
          ]
        }
      ]
    },
    {
      "cell_type": "code",
      "source": [
        "a[0]"
      ],
      "metadata": {
        "colab": {
          "base_uri": "https://localhost:8080/",
          "height": 35
        },
        "id": "uoLL2z5tX0td",
        "outputId": "a411b1ba-ac57-4856-87f5-bd9be7705365"
      },
      "execution_count": null,
      "outputs": [
        {
          "output_type": "execute_result",
          "data": {
            "text/plain": [
              "'E'"
            ],
            "application/vnd.google.colaboratory.intrinsic+json": {
              "type": "string"
            }
          },
          "metadata": {},
          "execution_count": 45
        }
      ]
    },
    {
      "cell_type": "code",
      "source": [
        "#slicing in strings\n",
        "a= 'United Nations'"
      ],
      "metadata": {
        "id": "D2ERaQ-Ia1Pw"
      },
      "execution_count": null,
      "outputs": []
    },
    {
      "cell_type": "code",
      "source": [
        "a[0:6]"
      ],
      "metadata": {
        "colab": {
          "base_uri": "https://localhost:8080/",
          "height": 35
        },
        "id": "-pIW4g8ta9mz",
        "outputId": "bcaf93f5-b364-4377-ceb7-05c54dea5ae7"
      },
      "execution_count": null,
      "outputs": [
        {
          "output_type": "execute_result",
          "data": {
            "text/plain": [
              "'United'"
            ],
            "application/vnd.google.colaboratory.intrinsic+json": {
              "type": "string"
            }
          },
          "metadata": {},
          "execution_count": 47
        }
      ]
    },
    {
      "cell_type": "code",
      "source": [
        "a[-14:-8]"
      ],
      "metadata": {
        "colab": {
          "base_uri": "https://localhost:8080/",
          "height": 35
        },
        "id": "bUU-nHwjbJwZ",
        "outputId": "1bd4ab88-1326-4c14-8233-3f018cc7ced1"
      },
      "execution_count": null,
      "outputs": [
        {
          "output_type": "execute_result",
          "data": {
            "text/plain": [
              "'United'"
            ],
            "application/vnd.google.colaboratory.intrinsic+json": {
              "type": "string"
            }
          },
          "metadata": {},
          "execution_count": 48
        }
      ]
    },
    {
      "cell_type": "code",
      "source": [
        "a[7:]"
      ],
      "metadata": {
        "colab": {
          "base_uri": "https://localhost:8080/",
          "height": 35
        },
        "id": "GKwILr17bTGM",
        "outputId": "3124b568-3819-4120-b2ed-a680e0ef7e84"
      },
      "execution_count": null,
      "outputs": [
        {
          "output_type": "execute_result",
          "data": {
            "text/plain": [
              "'Nations'"
            ],
            "application/vnd.google.colaboratory.intrinsic+json": {
              "type": "string"
            }
          },
          "metadata": {},
          "execution_count": 49
        }
      ]
    },
    {
      "cell_type": "code",
      "source": [
        "a[-7:]"
      ],
      "metadata": {
        "colab": {
          "base_uri": "https://localhost:8080/",
          "height": 35
        },
        "id": "pxxDrZ08bXtX",
        "outputId": "857ebd54-fc88-4d71-c9fa-45d0e8cfac6c"
      },
      "execution_count": null,
      "outputs": [
        {
          "output_type": "execute_result",
          "data": {
            "text/plain": [
              "'Nations'"
            ],
            "application/vnd.google.colaboratory.intrinsic+json": {
              "type": "string"
            }
          },
          "metadata": {},
          "execution_count": 50
        }
      ]
    },
    {
      "cell_type": "code",
      "source": [
        "a[3:13]"
      ],
      "metadata": {
        "colab": {
          "base_uri": "https://localhost:8080/",
          "height": 35
        },
        "id": "LdFDQt-hbhbF",
        "outputId": "2325b789-eaa0-4935-c082-dc97b821b840"
      },
      "execution_count": null,
      "outputs": [
        {
          "output_type": "execute_result",
          "data": {
            "text/plain": [
              "'ted Nation'"
            ],
            "application/vnd.google.colaboratory.intrinsic+json": {
              "type": "string"
            }
          },
          "metadata": {},
          "execution_count": 51
        }
      ]
    },
    {
      "cell_type": "code",
      "source": [
        "#slicing in List\n",
        "L2=[2,3,78,98,-8.2,-3.9,'USA','UK','India','London']"
      ],
      "metadata": {
        "id": "g8zKMMjvcivN"
      },
      "execution_count": null,
      "outputs": []
    },
    {
      "cell_type": "code",
      "source": [
        "L2[6:9]"
      ],
      "metadata": {
        "colab": {
          "base_uri": "https://localhost:8080/"
        },
        "id": "O1wZNpCTdMFA",
        "outputId": "ac742498-37c0-41b1-b6ed-9576a55310e3"
      },
      "execution_count": null,
      "outputs": [
        {
          "output_type": "execute_result",
          "data": {
            "text/plain": [
              "['USA', 'UK', 'India']"
            ]
          },
          "metadata": {},
          "execution_count": 54
        }
      ]
    },
    {
      "cell_type": "code",
      "source": [
        "L2[-8:-2]"
      ],
      "metadata": {
        "colab": {
          "base_uri": "https://localhost:8080/"
        },
        "id": "O_QUuPrfdTDy",
        "outputId": "8c60b5bc-46b1-483b-dd77-ab7df7eefbbb"
      },
      "execution_count": null,
      "outputs": [
        {
          "output_type": "execute_result",
          "data": {
            "text/plain": [
              "[78, 98, -8.2, -3.9, 'USA', 'UK']"
            ]
          },
          "metadata": {},
          "execution_count": 56
        }
      ]
    },
    {
      "cell_type": "markdown",
      "source": [
        "built-in functions with respect to strings and list"
      ],
      "metadata": {
        "id": "_hKwcqRXJLgh"
      }
    },
    {
      "cell_type": "code",
      "source": [
        "a='ankita'"
      ],
      "metadata": {
        "id": "iZoG21NHJTn6"
      },
      "execution_count": null,
      "outputs": []
    },
    {
      "cell_type": "code",
      "source": [
        "print(a.upper())"
      ],
      "metadata": {
        "colab": {
          "base_uri": "https://localhost:8080/"
        },
        "id": "DP-XJwe-Je7o",
        "outputId": "9d248382-ba5f-40bf-d147-2ea8b7632388"
      },
      "execution_count": null,
      "outputs": [
        {
          "output_type": "stream",
          "name": "stdout",
          "text": [
            "ANKITA\n"
          ]
        }
      ]
    },
    {
      "cell_type": "code",
      "source": [
        "print(a.lower())"
      ],
      "metadata": {
        "colab": {
          "base_uri": "https://localhost:8080/"
        },
        "id": "fQt8wix8JlNe",
        "outputId": "4ae119b1-8c57-471e-9dba-756033bc56a5"
      },
      "execution_count": null,
      "outputs": [
        {
          "output_type": "stream",
          "name": "stdout",
          "text": [
            "ankita\n"
          ]
        }
      ]
    },
    {
      "cell_type": "code",
      "source": [
        "print(a.capitalize())"
      ],
      "metadata": {
        "colab": {
          "base_uri": "https://localhost:8080/"
        },
        "id": "63SHcAtGJo8W",
        "outputId": "6b547f7b-6b1a-4727-c2a1-67af478a1969"
      },
      "execution_count": null,
      "outputs": [
        {
          "output_type": "stream",
          "name": "stdout",
          "text": [
            "Ankita\n"
          ]
        }
      ]
    },
    {
      "cell_type": "code",
      "source": [
        "print(len(a))"
      ],
      "metadata": {
        "colab": {
          "base_uri": "https://localhost:8080/"
        },
        "id": "T9nvUI84LVmQ",
        "outputId": "e3085d53-d6f4-4b57-c25b-03137b40e3be"
      },
      "execution_count": null,
      "outputs": [
        {
          "output_type": "stream",
          "name": "stdout",
          "text": [
            "6\n"
          ]
        }
      ]
    },
    {
      "cell_type": "code",
      "source": [
        "print(a.count('a'))"
      ],
      "metadata": {
        "colab": {
          "base_uri": "https://localhost:8080/"
        },
        "id": "cLGIf869Li-T",
        "outputId": "7f57bef9-6d03-4e40-ae72-7bf459201f30"
      },
      "execution_count": null,
      "outputs": [
        {
          "output_type": "stream",
          "name": "stdout",
          "text": [
            "2\n"
          ]
        }
      ]
    },
    {
      "cell_type": "code",
      "source": [
        "\n",
        "statement='Hello I am doing good, I am going to goa, I am going to stay for 8 week'"
      ],
      "metadata": {
        "id": "47ztmMqFKLYT"
      },
      "execution_count": null,
      "outputs": []
    },
    {
      "cell_type": "code",
      "source": [
        "print(statement.replace(\"I am\", \"We are\"))"
      ],
      "metadata": {
        "colab": {
          "base_uri": "https://localhost:8080/"
        },
        "id": "QhYtwE7CKs3U",
        "outputId": "14af013f-862b-4a23-e3fb-7daef9115d4a"
      },
      "execution_count": null,
      "outputs": [
        {
          "output_type": "stream",
          "name": "stdout",
          "text": [
            "Hello We are doing good, We are going to goa, We are going to stay for 8 week\n"
          ]
        }
      ]
    },
    {
      "cell_type": "code",
      "source": [
        "print(statement.replace(\"I am\", \"We are\",1))\n"
      ],
      "metadata": {
        "colab": {
          "base_uri": "https://localhost:8080/"
        },
        "id": "7TfPnsO9LHLb",
        "outputId": "d9c5ce1a-2d78-48b4-91b5-d6df9a78e691"
      },
      "execution_count": null,
      "outputs": [
        {
          "output_type": "stream",
          "name": "stdout",
          "text": [
            "Hello We are doing good, I am going to goa, I am going to stay for 8 week\n"
          ]
        }
      ]
    },
    {
      "cell_type": "code",
      "source": [
        "L3=['AI','machine learning','python','NLP']"
      ],
      "metadata": {
        "id": "6rz3cnRWMg7R"
      },
      "execution_count": null,
      "outputs": []
    },
    {
      "cell_type": "code",
      "source": [
        "L3.append('computer vision') #to add some element at the end then we use append function"
      ],
      "metadata": {
        "id": "b7WLM9VLM57U"
      },
      "execution_count": null,
      "outputs": []
    },
    {
      "cell_type": "code",
      "source": [
        "print(L3)"
      ],
      "metadata": {
        "colab": {
          "base_uri": "https://localhost:8080/"
        },
        "id": "31oVXa6yNLOK",
        "outputId": "bda6199f-4efa-41ba-b424-558af0bb3128"
      },
      "execution_count": null,
      "outputs": [
        {
          "output_type": "stream",
          "name": "stdout",
          "text": [
            "['AI', 'machine learning', 'python', 'NLP', 'computer vision']\n"
          ]
        }
      ]
    },
    {
      "cell_type": "code",
      "source": [
        "L3.insert(2,'computer vision') #to add any element in between weuse insert function"
      ],
      "metadata": {
        "id": "mzYv1e5iNbP_"
      },
      "execution_count": null,
      "outputs": []
    },
    {
      "cell_type": "code",
      "source": [
        "print(L3)"
      ],
      "metadata": {
        "colab": {
          "base_uri": "https://localhost:8080/"
        },
        "id": "jn0NnavWNou5",
        "outputId": "b7173ce4-6319-4f3d-febd-d9c4ffc7357a"
      },
      "execution_count": null,
      "outputs": [
        {
          "output_type": "stream",
          "name": "stdout",
          "text": [
            "['AI', 'machine learning', 'computer vision', 'python', 'NLP', 'computer vision']\n"
          ]
        }
      ]
    },
    {
      "cell_type": "code",
      "source": [
        "L3.append('statistics')"
      ],
      "metadata": {
        "id": "ZH14qRsiOLny"
      },
      "execution_count": null,
      "outputs": []
    },
    {
      "cell_type": "code",
      "source": [
        "print(L3)"
      ],
      "metadata": {
        "colab": {
          "base_uri": "https://localhost:8080/"
        },
        "id": "gBHWx1BUOdM_",
        "outputId": "7f9da21c-d1de-45ab-b3bd-f7e13df4fc28"
      },
      "execution_count": null,
      "outputs": [
        {
          "output_type": "stream",
          "name": "stdout",
          "text": [
            "['AI', 'machine learning', 'computer vision', 'python', 'NLP', 'computer vision', 'computer vision', 'statistics']\n"
          ]
        }
      ]
    },
    {
      "cell_type": "code",
      "source": [
        "L3.remove('AI') #to erase values we use remove function"
      ],
      "metadata": {
        "id": "8SNoseFqPGUG"
      },
      "execution_count": null,
      "outputs": []
    },
    {
      "cell_type": "code",
      "source": [
        "print(L3)"
      ],
      "metadata": {
        "colab": {
          "base_uri": "https://localhost:8080/"
        },
        "id": "cMz2Szz5PSdl",
        "outputId": "f2dd9bce-0151-4cf7-c96d-9550177aaa27"
      },
      "execution_count": null,
      "outputs": [
        {
          "output_type": "stream",
          "name": "stdout",
          "text": [
            "['machine learning', 'computer vision', 'python', 'NLP', 'computer vision', 'computer vision', 'statistics']\n"
          ]
        }
      ]
    },
    {
      "cell_type": "code",
      "source": [
        "L3.remove('computer vision')"
      ],
      "metadata": {
        "id": "9RvxgkSFPiD6"
      },
      "execution_count": null,
      "outputs": []
    },
    {
      "cell_type": "code",
      "source": [
        "print(L3)"
      ],
      "metadata": {
        "colab": {
          "base_uri": "https://localhost:8080/"
        },
        "id": "VbvlU7EQPwsR",
        "outputId": "d22818e2-b328-4ca4-e3ae-4386f926f559"
      },
      "execution_count": null,
      "outputs": [
        {
          "output_type": "stream",
          "name": "stdout",
          "text": [
            "['machine learning', 'python', 'NLP', 'computer vision', 'computer vision', 'statistics']\n"
          ]
        }
      ]
    },
    {
      "cell_type": "code",
      "source": [
        "L3.pop()"
      ],
      "metadata": {
        "colab": {
          "base_uri": "https://localhost:8080/",
          "height": 35
        },
        "id": "SJdvwkYlP8Wk",
        "outputId": "b24bae61-19c3-45a5-8814-de3080c7be4d"
      },
      "execution_count": null,
      "outputs": [
        {
          "output_type": "execute_result",
          "data": {
            "text/plain": [
              "'statistics'"
            ],
            "application/vnd.google.colaboratory.intrinsic+json": {
              "type": "string"
            }
          },
          "metadata": {},
          "execution_count": 26
        }
      ]
    },
    {
      "cell_type": "code",
      "source": [
        "print(L3)"
      ],
      "metadata": {
        "colab": {
          "base_uri": "https://localhost:8080/"
        },
        "id": "IMWl5HJwQCtP",
        "outputId": "fd9cc795-8f9a-40b1-bf65-3c6d2337dea5"
      },
      "execution_count": null,
      "outputs": [
        {
          "output_type": "stream",
          "name": "stdout",
          "text": [
            "['machine learning', 'python', 'NLP', 'computer vision', 'computer vision']\n"
          ]
        }
      ]
    },
    {
      "cell_type": "code",
      "source": [
        "L3.pop(0) # to remove particular element from list with respect to there indexing we use pop function"
      ],
      "metadata": {
        "colab": {
          "base_uri": "https://localhost:8080/",
          "height": 35
        },
        "id": "ZrWpvogcQI1B",
        "outputId": "5bc20fba-04e3-4b9a-dff1-57fdd97810fc"
      },
      "execution_count": null,
      "outputs": [
        {
          "output_type": "execute_result",
          "data": {
            "text/plain": [
              "'machine learning'"
            ],
            "application/vnd.google.colaboratory.intrinsic+json": {
              "type": "string"
            }
          },
          "metadata": {},
          "execution_count": 28
        }
      ]
    },
    {
      "cell_type": "code",
      "source": [
        "print(L3)"
      ],
      "metadata": {
        "colab": {
          "base_uri": "https://localhost:8080/"
        },
        "id": "M-eVqlJcQMp-",
        "outputId": "75ddba0d-6b5d-40a9-fee2-9e1a9371988c"
      },
      "execution_count": null,
      "outputs": [
        {
          "output_type": "stream",
          "name": "stdout",
          "text": [
            "['python', 'NLP', 'computer vision', 'computer vision']\n"
          ]
        }
      ]
    },
    {
      "cell_type": "code",
      "source": [
        "L3.extend(['sql',23,-6.9,'python'])"
      ],
      "metadata": {
        "id": "CtTUvCFGQjPe"
      },
      "execution_count": null,
      "outputs": []
    },
    {
      "cell_type": "code",
      "source": [
        "print(L3)"
      ],
      "metadata": {
        "colab": {
          "base_uri": "https://localhost:8080/"
        },
        "id": "GAY5sZKqQ6qi",
        "outputId": "e3383cfa-a02a-41a9-dfbc-c316c1a539a9"
      },
      "execution_count": null,
      "outputs": [
        {
          "output_type": "stream",
          "name": "stdout",
          "text": [
            "['python', 'NLP', 'computer vision', 'computer vision', 'sql', 23, -6.9, 'python']\n"
          ]
        }
      ]
    },
    {
      "cell_type": "code",
      "source": [
        "print(len(L3))"
      ],
      "metadata": {
        "colab": {
          "base_uri": "https://localhost:8080/"
        },
        "id": "4r8dj6yYRCrY",
        "outputId": "d92210fc-a2af-45af-d0ca-517741a43110"
      },
      "execution_count": null,
      "outputs": [
        {
          "output_type": "stream",
          "name": "stdout",
          "text": [
            "8\n"
          ]
        }
      ]
    },
    {
      "cell_type": "code",
      "source": [
        "newlist=[2,4,6,7,9,5,8,1,8,0,4,3,9]"
      ],
      "metadata": {
        "id": "DDn3xoKfRPdI"
      },
      "execution_count": null,
      "outputs": []
    },
    {
      "cell_type": "code",
      "source": [
        "print(max(newlist))"
      ],
      "metadata": {
        "colab": {
          "base_uri": "https://localhost:8080/"
        },
        "id": "FPeJh05mRc-3",
        "outputId": "89637eb2-99eb-4dc8-89be-fbbc40eaa57c"
      },
      "execution_count": null,
      "outputs": [
        {
          "output_type": "stream",
          "name": "stdout",
          "text": [
            "9\n"
          ]
        }
      ]
    },
    {
      "cell_type": "code",
      "source": [
        "print(min(newlist))\n"
      ],
      "metadata": {
        "colab": {
          "base_uri": "https://localhost:8080/"
        },
        "id": "ajv35SLYRmID",
        "outputId": "42e52a77-6740-4390-8e14-839d9be4ad32"
      },
      "execution_count": null,
      "outputs": [
        {
          "output_type": "stream",
          "name": "stdout",
          "text": [
            "0\n"
          ]
        }
      ]
    },
    {
      "cell_type": "markdown",
      "source": [],
      "metadata": {
        "id": "cUHWqUSc5JFk"
      }
    },
    {
      "cell_type": "code",
      "source": [],
      "metadata": {
        "id": "COXVEBfF5MTS"
      },
      "execution_count": null,
      "outputs": []
    },
    {
      "cell_type": "code",
      "source": [
        "print(sum(newlist))"
      ],
      "metadata": {
        "colab": {
          "base_uri": "https://localhost:8080/"
        },
        "id": "m7vmXZWfRrtO",
        "outputId": "c9cff8ed-4148-4b30-ac25-4eda5342187c"
      },
      "execution_count": null,
      "outputs": [
        {
          "output_type": "stream",
          "name": "stdout",
          "text": [
            "66\n"
          ]
        }
      ]
    },
    {
      "cell_type": "code",
      "source": [
        "print(len(newlist))"
      ],
      "metadata": {
        "colab": {
          "base_uri": "https://localhost:8080/"
        },
        "id": "1cvDDgbRR2yI",
        "outputId": "48c2efb3-af03-48dc-dbd4-34c530d96e36"
      },
      "execution_count": null,
      "outputs": [
        {
          "output_type": "stream",
          "name": "stdout",
          "text": [
            "13\n"
          ]
        }
      ]
    },
    {
      "cell_type": "code",
      "source": [
        "print(newlist.count(9))"
      ],
      "metadata": {
        "colab": {
          "base_uri": "https://localhost:8080/"
        },
        "id": "NgtoU8CnR7q0",
        "outputId": "eccec945-e264-49fc-b288-bd113bfb2af5"
      },
      "execution_count": null,
      "outputs": [
        {
          "output_type": "stream",
          "name": "stdout",
          "text": [
            "2\n"
          ]
        }
      ]
    },
    {
      "cell_type": "code",
      "source": [
        "newlist.sort() #ascending order"
      ],
      "metadata": {
        "id": "LJ3ZFzmGSS_Y"
      },
      "execution_count": null,
      "outputs": []
    },
    {
      "cell_type": "code",
      "source": [
        "print(newlist)"
      ],
      "metadata": {
        "colab": {
          "base_uri": "https://localhost:8080/"
        },
        "id": "wlZZsvf_SaMm",
        "outputId": "4a52a952-9b3b-4cc4-b224-1918ff991bab"
      },
      "execution_count": null,
      "outputs": [
        {
          "output_type": "stream",
          "name": "stdout",
          "text": [
            "[0, 1, 2, 3, 4, 4, 5, 6, 7, 8, 8, 9, 9]\n"
          ]
        }
      ]
    },
    {
      "cell_type": "code",
      "source": [
        "newlist.sort(reverse=True)"
      ],
      "metadata": {
        "id": "ySVSEasjSw4Z"
      },
      "execution_count": null,
      "outputs": []
    },
    {
      "cell_type": "code",
      "source": [
        "print(newlist) #descending order"
      ],
      "metadata": {
        "colab": {
          "base_uri": "https://localhost:8080/"
        },
        "id": "4a6ozH9kS3yq",
        "outputId": "5730c98d-04f8-45b4-9fab-2da71fad040f"
      },
      "execution_count": null,
      "outputs": [
        {
          "output_type": "stream",
          "name": "stdout",
          "text": [
            "[9, 9, 8, 8, 7, 6, 5, 4, 4, 3, 2, 1, 0]\n"
          ]
        }
      ]
    },
    {
      "cell_type": "code",
      "source": [
        "#nested list\n"
      ],
      "metadata": {
        "id": "D7weke-KTSgZ"
      },
      "execution_count": null,
      "outputs": []
    },
    {
      "cell_type": "code",
      "source": [
        "L4=['India', 'USA', ['China',10, 25, -11.7,6.9]]"
      ],
      "metadata": {
        "id": "QaqSYK4LTXFA"
      },
      "execution_count": null,
      "outputs": []
    },
    {
      "cell_type": "code",
      "source": [
        "L4[1]"
      ],
      "metadata": {
        "colab": {
          "base_uri": "https://localhost:8080/",
          "height": 35
        },
        "id": "4QfHaIHNV78B",
        "outputId": "7f0f1e64-e421-45ac-c8fd-af53a6de6059"
      },
      "execution_count": null,
      "outputs": [
        {
          "output_type": "execute_result",
          "data": {
            "text/plain": [
              "'USA'"
            ],
            "application/vnd.google.colaboratory.intrinsic+json": {
              "type": "string"
            }
          },
          "metadata": {},
          "execution_count": 45
        }
      ]
    },
    {
      "cell_type": "code",
      "source": [
        "L4[2][0]"
      ],
      "metadata": {
        "colab": {
          "base_uri": "https://localhost:8080/",
          "height": 35
        },
        "id": "wwovijsJWM9C",
        "outputId": "0eb573b8-21cd-4656-d888-b6969a62755b"
      },
      "execution_count": null,
      "outputs": [
        {
          "output_type": "execute_result",
          "data": {
            "text/plain": [
              "'China'"
            ],
            "application/vnd.google.colaboratory.intrinsic+json": {
              "type": "string"
            }
          },
          "metadata": {},
          "execution_count": 46
        }
      ]
    },
    {
      "cell_type": "code",
      "source": [
        "L4[-1][-5]"
      ],
      "metadata": {
        "colab": {
          "base_uri": "https://localhost:8080/",
          "height": 35
        },
        "id": "NPvOWSytWXUa",
        "outputId": "f28dc6d7-127a-4079-943d-0ca2fb98a29e"
      },
      "execution_count": null,
      "outputs": [
        {
          "output_type": "execute_result",
          "data": {
            "text/plain": [
              "'China'"
            ],
            "application/vnd.google.colaboratory.intrinsic+json": {
              "type": "string"
            }
          },
          "metadata": {},
          "execution_count": 47
        }
      ]
    },
    {
      "cell_type": "code",
      "source": [
        "L4[2][3]"
      ],
      "metadata": {
        "colab": {
          "base_uri": "https://localhost:8080/"
        },
        "id": "1QmeOTd5W_ci",
        "outputId": "24a0eac5-d705-4c63-9398-144f622133e7"
      },
      "execution_count": null,
      "outputs": [
        {
          "output_type": "execute_result",
          "data": {
            "text/plain": [
              "-11.7"
            ]
          },
          "metadata": {},
          "execution_count": 48
        }
      ]
    },
    {
      "cell_type": "code",
      "source": [
        "L4[-1][-2]"
      ],
      "metadata": {
        "colab": {
          "base_uri": "https://localhost:8080/"
        },
        "id": "jYiehnQCXGyk",
        "outputId": "47e7360e-2fb9-440c-cbb6-dfc723399f14"
      },
      "execution_count": null,
      "outputs": [
        {
          "output_type": "execute_result",
          "data": {
            "text/plain": [
              "-11.7"
            ]
          },
          "metadata": {},
          "execution_count": 49
        }
      ]
    },
    {
      "cell_type": "code",
      "source": [
        "L4[2][0:3] #performing slicing under nested list"
      ],
      "metadata": {
        "colab": {
          "base_uri": "https://localhost:8080/"
        },
        "id": "oFlts11oXmZb",
        "outputId": "49fdfb40-41a0-4eeb-aac8-5657c2bfab9d"
      },
      "execution_count": null,
      "outputs": [
        {
          "output_type": "execute_result",
          "data": {
            "text/plain": [
              "['China', 10, 25]"
            ]
          },
          "metadata": {},
          "execution_count": 50
        }
      ]
    },
    {
      "cell_type": "code",
      "source": [
        "#tuples\n",
        "t=('India','usa','russia','delhi',25,900,-3.9, -0.8)"
      ],
      "metadata": {
        "id": "w70bAVGva_z-"
      },
      "execution_count": null,
      "outputs": []
    },
    {
      "cell_type": "code",
      "source": [
        "type(t)"
      ],
      "metadata": {
        "colab": {
          "base_uri": "https://localhost:8080/"
        },
        "id": "oRaxA0y_bjeH",
        "outputId": "d8f87193-2f1d-42b5-8c74-c740fd5ce6e7"
      },
      "execution_count": null,
      "outputs": [
        {
          "output_type": "execute_result",
          "data": {
            "text/plain": [
              "tuple"
            ]
          },
          "metadata": {},
          "execution_count": 52
        }
      ]
    },
    {
      "cell_type": "code",
      "source": [
        "t[2]"
      ],
      "metadata": {
        "colab": {
          "base_uri": "https://localhost:8080/",
          "height": 35
        },
        "id": "nwjrxXnzbnHw",
        "outputId": "f3baf901-1161-4f52-835c-947884aab097"
      },
      "execution_count": null,
      "outputs": [
        {
          "output_type": "execute_result",
          "data": {
            "text/plain": [
              "'russia'"
            ],
            "application/vnd.google.colaboratory.intrinsic+json": {
              "type": "string"
            }
          },
          "metadata": {},
          "execution_count": 54
        }
      ]
    },
    {
      "cell_type": "code",
      "source": [
        "t[6]"
      ],
      "metadata": {
        "colab": {
          "base_uri": "https://localhost:8080/"
        },
        "id": "SNMXB6-kbv3W",
        "outputId": "7df974b2-9eb7-43bb-b4e0-1914576e6956"
      },
      "execution_count": null,
      "outputs": [
        {
          "output_type": "execute_result",
          "data": {
            "text/plain": [
              "-3.9"
            ]
          },
          "metadata": {},
          "execution_count": 55
        }
      ]
    },
    {
      "cell_type": "code",
      "source": [
        "t[0:3]"
      ],
      "metadata": {
        "colab": {
          "base_uri": "https://localhost:8080/"
        },
        "id": "N2fxf0Mzb2M8",
        "outputId": "0254dc5b-5353-45a2-f145-84b8941e117b"
      },
      "execution_count": null,
      "outputs": [
        {
          "output_type": "execute_result",
          "data": {
            "text/plain": [
              "('India', 'usa', 'russia')"
            ]
          },
          "metadata": {},
          "execution_count": 56
        }
      ]
    },
    {
      "cell_type": "code",
      "source": [
        "mytuple=(3,5,8,9,8,7,4,9,2,3,4,2)"
      ],
      "metadata": {
        "id": "c_uCsjbicHrt"
      },
      "execution_count": null,
      "outputs": []
    },
    {
      "cell_type": "code",
      "source": [
        "sum(mytuple)"
      ],
      "metadata": {
        "colab": {
          "base_uri": "https://localhost:8080/"
        },
        "id": "-9rDEZcRcYPi",
        "outputId": "5939df4e-6961-48b8-dd0f-77605ffe91e9"
      },
      "execution_count": null,
      "outputs": [
        {
          "output_type": "execute_result",
          "data": {
            "text/plain": [
              "64"
            ]
          },
          "metadata": {},
          "execution_count": 59
        }
      ]
    },
    {
      "cell_type": "code",
      "source": [
        "max(mytuple)"
      ],
      "metadata": {
        "colab": {
          "base_uri": "https://localhost:8080/"
        },
        "id": "DygOQzkDccuf",
        "outputId": "980b8d90-c701-4c65-a66e-aa09ab370130"
      },
      "execution_count": null,
      "outputs": [
        {
          "output_type": "execute_result",
          "data": {
            "text/plain": [
              "9"
            ]
          },
          "metadata": {},
          "execution_count": 60
        }
      ]
    },
    {
      "cell_type": "code",
      "source": [
        "min(mytuple)"
      ],
      "metadata": {
        "colab": {
          "base_uri": "https://localhost:8080/"
        },
        "id": "OxJ_a0hZcQJ5",
        "outputId": "7d286087-28c5-4b7d-9da0-ae2a2d55561a"
      },
      "execution_count": null,
      "outputs": [
        {
          "output_type": "execute_result",
          "data": {
            "text/plain": [
              "2"
            ]
          },
          "metadata": {},
          "execution_count": 61
        }
      ]
    },
    {
      "cell_type": "code",
      "source": [
        "len(mytuple)"
      ],
      "metadata": {
        "colab": {
          "base_uri": "https://localhost:8080/"
        },
        "id": "RkvK08T1crsl",
        "outputId": "1715e122-23b1-4226-8e95-9a05444a265f"
      },
      "execution_count": null,
      "outputs": [
        {
          "output_type": "execute_result",
          "data": {
            "text/plain": [
              "12"
            ]
          },
          "metadata": {},
          "execution_count": 62
        }
      ]
    },
    {
      "cell_type": "code",
      "source": [
        "#Dictionary\n"
      ],
      "metadata": {
        "id": "c7Qafy_RdDkz"
      },
      "execution_count": null,
      "outputs": []
    },
    {
      "cell_type": "code",
      "source": [
        "memo={'chips':50, 'icecream':250, 'chocolate':300, 'pens':30, 'bread':45}"
      ],
      "metadata": {
        "id": "Tn7jke8YhrAT"
      },
      "execution_count": null,
      "outputs": []
    },
    {
      "cell_type": "code",
      "source": [
        "type(memo)"
      ],
      "metadata": {
        "colab": {
          "base_uri": "https://localhost:8080/"
        },
        "id": "r_FF-MTXiNoa",
        "outputId": "05c357b8-0daf-4d59-d684-2d7d73851040"
      },
      "execution_count": null,
      "outputs": [
        {
          "output_type": "execute_result",
          "data": {
            "text/plain": [
              "dict"
            ]
          },
          "metadata": {},
          "execution_count": 65
        }
      ]
    },
    {
      "cell_type": "code",
      "source": [
        "memo['pens']"
      ],
      "metadata": {
        "colab": {
          "base_uri": "https://localhost:8080/"
        },
        "id": "FcEQvDfliQM7",
        "outputId": "c5ba4088-cfe6-4b71-c597-fea1f9ed4b7e"
      },
      "execution_count": null,
      "outputs": [
        {
          "output_type": "execute_result",
          "data": {
            "text/plain": [
              "30"
            ]
          },
          "metadata": {},
          "execution_count": 66
        }
      ]
    },
    {
      "cell_type": "code",
      "source": [
        "memo['chocolate']= 350"
      ],
      "metadata": {
        "id": "OScF959UijyQ"
      },
      "execution_count": null,
      "outputs": []
    },
    {
      "cell_type": "code",
      "source": [
        "print(memo)"
      ],
      "metadata": {
        "colab": {
          "base_uri": "https://localhost:8080/"
        },
        "id": "wnO6SdqNiruK",
        "outputId": "4f011921-b3a7-4099-d93c-5ee7cc4c5890"
      },
      "execution_count": null,
      "outputs": [
        {
          "output_type": "stream",
          "name": "stdout",
          "text": [
            "{'chips': 50, 'icecream': 250, 'chocolate': 350, 'pens': 30, 'bread': 45}\n"
          ]
        }
      ]
    },
    {
      "cell_type": "code",
      "source": [
        "memo.keys()"
      ],
      "metadata": {
        "colab": {
          "base_uri": "https://localhost:8080/"
        },
        "id": "yEpuG_wBi-7M",
        "outputId": "5ad78f5e-cc94-453d-c1fc-8fdcad01f118"
      },
      "execution_count": null,
      "outputs": [
        {
          "output_type": "execute_result",
          "data": {
            "text/plain": [
              "dict_keys(['chips', 'icecream', 'chocolate', 'pens', 'bread'])"
            ]
          },
          "metadata": {},
          "execution_count": 71
        }
      ]
    },
    {
      "cell_type": "code",
      "source": [
        "memo.values()"
      ],
      "metadata": {
        "colab": {
          "base_uri": "https://localhost:8080/"
        },
        "id": "9gLSiMdMjDx2",
        "outputId": "e4078b8e-a888-414e-c6f4-517d8a969d1b"
      },
      "execution_count": null,
      "outputs": [
        {
          "output_type": "execute_result",
          "data": {
            "text/plain": [
              "dict_values([50, 250, 350, 30, 45])"
            ]
          },
          "metadata": {},
          "execution_count": 72
        }
      ]
    },
    {
      "cell_type": "code",
      "source": [
        "memo['notebook']=90"
      ],
      "metadata": {
        "id": "YpZQ-uhNjRSc"
      },
      "execution_count": null,
      "outputs": []
    },
    {
      "cell_type": "code",
      "source": [
        "print(memo)"
      ],
      "metadata": {
        "colab": {
          "base_uri": "https://localhost:8080/"
        },
        "id": "SoD93T9ajX0r",
        "outputId": "2817f835-449a-44fc-dd76-4d8b9c8a4339"
      },
      "execution_count": null,
      "outputs": [
        {
          "output_type": "stream",
          "name": "stdout",
          "text": [
            "{'chips': 50, 'icecream': 250, 'chocolate': 350, 'pens': 30, 'bread': 45, 'notebook': 90}\n"
          ]
        }
      ]
    },
    {
      "cell_type": "code",
      "source": [
        "memo.popitem()"
      ],
      "metadata": {
        "colab": {
          "base_uri": "https://localhost:8080/"
        },
        "id": "PFXzfhNkje5g",
        "outputId": "6b344b80-78d7-48aa-acc7-27c684b8d917"
      },
      "execution_count": null,
      "outputs": [
        {
          "output_type": "execute_result",
          "data": {
            "text/plain": [
              "('notebook', 90)"
            ]
          },
          "metadata": {},
          "execution_count": 75
        }
      ]
    },
    {
      "cell_type": "code",
      "source": [
        "print(memo)"
      ],
      "metadata": {
        "colab": {
          "base_uri": "https://localhost:8080/"
        },
        "id": "7ZcBuT8FjlmT",
        "outputId": "d3d3cc0a-1667-4637-86e2-ae9ccc62940d"
      },
      "execution_count": null,
      "outputs": [
        {
          "output_type": "stream",
          "name": "stdout",
          "text": [
            "{'chips': 50, 'icecream': 250, 'chocolate': 350, 'pens': 30, 'bread': 45}\n"
          ]
        }
      ]
    },
    {
      "cell_type": "code",
      "source": [
        "memo.clear()"
      ],
      "metadata": {
        "id": "TpH597k0jo7u"
      },
      "execution_count": null,
      "outputs": []
    },
    {
      "cell_type": "code",
      "source": [
        "print(memo)"
      ],
      "metadata": {
        "colab": {
          "base_uri": "https://localhost:8080/"
        },
        "id": "IUfDG_PCjuzY",
        "outputId": "5d192462-2269-4bd0-9956-c9ce66e73ef3"
      },
      "execution_count": null,
      "outputs": [
        {
          "output_type": "stream",
          "name": "stdout",
          "text": [
            "{}\n"
          ]
        }
      ]
    },
    {
      "cell_type": "code",
      "source": [
        "data={'name': 'bob', 'age':39, 'salary':35000, 'city':'new york'}"
      ],
      "metadata": {
        "id": "thGfWTmplzcK"
      },
      "execution_count": 2,
      "outputs": []
    },
    {
      "cell_type": "code",
      "source": [
        "print(data)"
      ],
      "metadata": {
        "colab": {
          "base_uri": "https://localhost:8080/"
        },
        "id": "FiUUhFXEmq-S",
        "outputId": "b83b88f3-71ba-4b05-fc75-41b12852807f"
      },
      "execution_count": 3,
      "outputs": [
        {
          "output_type": "stream",
          "name": "stdout",
          "text": [
            "{'name': 'bob', 'age': 39, 'salary': 35000, 'city': 'new york'}\n"
          ]
        }
      ]
    },
    {
      "cell_type": "code",
      "source": [
        "data['designation']= 'soft eng'"
      ],
      "metadata": {
        "id": "ZbM7nKJBm0HE"
      },
      "execution_count": 4,
      "outputs": []
    },
    {
      "cell_type": "code",
      "source": [
        "print(data)"
      ],
      "metadata": {
        "colab": {
          "base_uri": "https://localhost:8080/"
        },
        "id": "EkbtbPvsnNqT",
        "outputId": "7988be00-c553-4879-a2f4-b7d53ac42618"
      },
      "execution_count": 5,
      "outputs": [
        {
          "output_type": "stream",
          "name": "stdout",
          "text": [
            "{'name': 'bob', 'age': 39, 'salary': 35000, 'city': 'new york', 'designation': 'soft eng'}\n"
          ]
        }
      ]
    },
    {
      "cell_type": "code",
      "source": [
        "data['salary']"
      ],
      "metadata": {
        "colab": {
          "base_uri": "https://localhost:8080/"
        },
        "id": "k9RXmeBlnWOs",
        "outputId": "95810704-bba2-45ad-e7d7-c6bdf3c06f50"
      },
      "execution_count": 6,
      "outputs": [
        {
          "output_type": "execute_result",
          "data": {
            "text/plain": [
              "35000"
            ]
          },
          "metadata": {},
          "execution_count": 6
        }
      ]
    },
    {
      "cell_type": "code",
      "source": [
        "data['salary']= 55000"
      ],
      "metadata": {
        "id": "-cl0_Hmynsqd"
      },
      "execution_count": 7,
      "outputs": []
    },
    {
      "cell_type": "code",
      "source": [
        "print(data)"
      ],
      "metadata": {
        "colab": {
          "base_uri": "https://localhost:8080/"
        },
        "id": "HBBp-_-tny4p",
        "outputId": "1e4c9c5d-afd0-41fe-e14f-9227d9f69fd5"
      },
      "execution_count": 8,
      "outputs": [
        {
          "output_type": "stream",
          "name": "stdout",
          "text": [
            "{'name': 'bob', 'age': 39, 'salary': 55000, 'city': 'new york', 'designation': 'soft eng'}\n"
          ]
        }
      ]
    },
    {
      "cell_type": "code",
      "source": [
        "del data['age']"
      ],
      "metadata": {
        "id": "biMfv167n7Z_"
      },
      "execution_count": 9,
      "outputs": []
    },
    {
      "cell_type": "code",
      "source": [
        "print(data)"
      ],
      "metadata": {
        "colab": {
          "base_uri": "https://localhost:8080/"
        },
        "id": "5iHsxAeZrok6",
        "outputId": "8a55f3d0-06f9-424d-b2fb-1c6809432a08"
      },
      "execution_count": 10,
      "outputs": [
        {
          "output_type": "stream",
          "name": "stdout",
          "text": [
            "{'name': 'bob', 'salary': 55000, 'city': 'new york', 'designation': 'soft eng'}\n"
          ]
        }
      ]
    },
    {
      "cell_type": "code",
      "source": [
        "#sets we can't perform slicing and indexing in sets\n",
        "\n",
        "s= {23, 78,6.4, 'india','usa'}"
      ],
      "metadata": {
        "id": "3s65O8rresxr"
      },
      "execution_count": 11,
      "outputs": []
    },
    {
      "cell_type": "code",
      "source": [
        "type(s)"
      ],
      "metadata": {
        "colab": {
          "base_uri": "https://localhost:8080/"
        },
        "id": "fqQj7Z7te6EA",
        "outputId": "da2e4fee-e946-4ecc-c003-78a93e1d7986"
      },
      "execution_count": 12,
      "outputs": [
        {
          "output_type": "execute_result",
          "data": {
            "text/plain": [
              "set"
            ]
          },
          "metadata": {},
          "execution_count": 12
        }
      ]
    },
    {
      "cell_type": "code",
      "source": [
        "print(s)"
      ],
      "metadata": {
        "colab": {
          "base_uri": "https://localhost:8080/"
        },
        "id": "O8qR5gsmfAd0",
        "outputId": "25750028-aebd-44fd-d58f-96644633bd03"
      },
      "execution_count": 13,
      "outputs": [
        {
          "output_type": "stream",
          "name": "stdout",
          "text": [
            "{'usa', 'india', 6.4, 23, 78}\n"
          ]
        }
      ]
    },
    {
      "cell_type": "code",
      "source": [
        "s.add(29)"
      ],
      "metadata": {
        "id": "q_VMrxH1fH67"
      },
      "execution_count": 15,
      "outputs": []
    },
    {
      "cell_type": "code",
      "source": [
        "print(s)"
      ],
      "metadata": {
        "colab": {
          "base_uri": "https://localhost:8080/"
        },
        "id": "u-Cz7fZtfNO-",
        "outputId": "9fcb1750-c65d-4560-ad61-22fe2ec5e7b4"
      },
      "execution_count": 16,
      "outputs": [
        {
          "output_type": "stream",
          "name": "stdout",
          "text": [
            "{'usa', 'india', 6.4, 23, 29, 78}\n"
          ]
        }
      ]
    },
    {
      "cell_type": "code",
      "source": [
        "s.discard('usa')"
      ],
      "metadata": {
        "id": "iyXYibfQfanl"
      },
      "execution_count": 17,
      "outputs": []
    },
    {
      "cell_type": "code",
      "source": [
        "print(s)"
      ],
      "metadata": {
        "colab": {
          "base_uri": "https://localhost:8080/"
        },
        "id": "7IAerVCjfiv2",
        "outputId": "fceea7da-1a04-440e-f3fc-9227aa798beb"
      },
      "execution_count": 18,
      "outputs": [
        {
          "output_type": "stream",
          "name": "stdout",
          "text": [
            "{'india', 6.4, 23, 29, 78}\n"
          ]
        }
      ]
    },
    {
      "cell_type": "code",
      "source": [
        "#boolean\n",
        "a=10\n",
        "b=20"
      ],
      "metadata": {
        "id": "MJK6aU8Qfr3m"
      },
      "execution_count": 19,
      "outputs": []
    },
    {
      "cell_type": "code",
      "source": [
        "print(a>b)"
      ],
      "metadata": {
        "colab": {
          "base_uri": "https://localhost:8080/"
        },
        "id": "jJX9KKFxfzQO",
        "outputId": "03d7cb93-2219-4713-feb1-b60451a7042f"
      },
      "execution_count": 20,
      "outputs": [
        {
          "output_type": "stream",
          "name": "stdout",
          "text": [
            "False\n"
          ]
        }
      ]
    },
    {
      "cell_type": "code",
      "source": [
        "type(a>b)"
      ],
      "metadata": {
        "colab": {
          "base_uri": "https://localhost:8080/"
        },
        "id": "Z5dM2SF6f4v1",
        "outputId": "d59b881a-4d15-4c1d-c4f4-c42e08d90510"
      },
      "execution_count": 21,
      "outputs": [
        {
          "output_type": "execute_result",
          "data": {
            "text/plain": [
              "bool"
            ]
          },
          "metadata": {},
          "execution_count": 21
        }
      ]
    },
    {
      "cell_type": "markdown",
      "source": [],
      "metadata": {
        "id": "R2NzGDhbnAZU"
      }
    }
  ]
}