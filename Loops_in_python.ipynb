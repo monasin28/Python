{
  "nbformat": 4,
  "nbformat_minor": 0,
  "metadata": {
    "colab": {
      "provenance": [],
      "authorship_tag": "ABX9TyNLpyLTafdsWVPpt3VfcivQ",
      "include_colab_link": true
    },
    "kernelspec": {
      "name": "python3",
      "display_name": "Python 3"
    },
    "language_info": {
      "name": "python"
    }
  },
  "cells": [
    {
      "cell_type": "markdown",
      "metadata": {
        "id": "view-in-github",
        "colab_type": "text"
      },
      "source": [
        "<a href=\"https://colab.research.google.com/github/monasin28/Python/blob/main/Loops_in_python.ipynb\" target=\"_parent\"><img src=\"https://colab.research.google.com/assets/colab-badge.svg\" alt=\"Open In Colab\"/></a>"
      ]
    },
    {
      "cell_type": "markdown",
      "source": [],
      "metadata": {
        "id": "h-NQGTqk9CFp"
      }
    },
    {
      "cell_type": "markdown",
      "source": [
        "LOOPS\n",
        "\n",
        "For Loop"
      ],
      "metadata": {
        "id": "hWDY3PVA9Epx"
      }
    },
    {
      "cell_type": "code",
      "source": [
        "names=[\"sana\", \"ankita\", \"samarth\", \"akash\", \"arpita\", \"sahil\", \"pallavi\"]\n",
        "for name in names:\n",
        "  print(name)"
      ],
      "metadata": {
        "colab": {
          "base_uri": "https://localhost:8080/"
        },
        "id": "zJG9KzHvBD6b",
        "outputId": "a611f84e-d470-4043-e202-95fc0a3fd896"
      },
      "execution_count": 3,
      "outputs": [
        {
          "output_type": "stream",
          "name": "stdout",
          "text": [
            "sana\n",
            "ankita\n",
            "samarth\n",
            "akash\n",
            "arpita\n",
            "sahil\n",
            "pallavi\n"
          ]
        }
      ]
    },
    {
      "cell_type": "code",
      "source": [
        "no=[1,3,5,7,8,9]\n",
        "for num in no:\n",
        "  print(num)"
      ],
      "metadata": {
        "colab": {
          "base_uri": "https://localhost:8080/"
        },
        "id": "OCz-mZqOB9Qz",
        "outputId": "54fdd51d-0b3a-4065-abdd-b3cd112d7318"
      },
      "execution_count": 4,
      "outputs": [
        {
          "output_type": "stream",
          "name": "stdout",
          "text": [
            "1\n",
            "3\n",
            "5\n",
            "7\n",
            "8\n",
            "9\n"
          ]
        }
      ]
    },
    {
      "cell_type": "code",
      "source": [
        "fruits=[\"apple\", \"grapes\", \"guava\", \"mango\", \"lichi\"]\n",
        "for fruit in fruits:\n",
        "  print(fruit)"
      ],
      "metadata": {
        "colab": {
          "base_uri": "https://localhost:8080/"
        },
        "id": "yCsM3WR_CN9t",
        "outputId": "5ec1c3e4-ff7b-49b0-b964-047719446a84"
      },
      "execution_count": 5,
      "outputs": [
        {
          "output_type": "stream",
          "name": "stdout",
          "text": [
            "apple\n",
            "grapes\n",
            "guava\n",
            "mango\n",
            "lichi\n"
          ]
        }
      ]
    },
    {
      "cell_type": "markdown",
      "source": [
        "Q.1 Display first 10 natural numbers?"
      ],
      "metadata": {
        "id": "lqpnn4mWDklL"
      }
    },
    {
      "cell_type": "code",
      "source": [
        "for i in range(0,10):\n",
        "  print(i)"
      ],
      "metadata": {
        "colab": {
          "base_uri": "https://localhost:8080/"
        },
        "id": "UwqNCCPtDhgu",
        "outputId": "053aae5a-3a99-4873-ecd8-802b82761ffe"
      },
      "execution_count": 6,
      "outputs": [
        {
          "output_type": "stream",
          "name": "stdout",
          "text": [
            "0\n",
            "1\n",
            "2\n",
            "3\n",
            "4\n",
            "5\n",
            "6\n",
            "7\n",
            "8\n",
            "9\n"
          ]
        }
      ]
    },
    {
      "cell_type": "code",
      "source": [
        "for i in range(0,10,2):\n",
        "  print(i)"
      ],
      "metadata": {
        "colab": {
          "base_uri": "https://localhost:8080/"
        },
        "id": "8po4aeMVEBz5",
        "outputId": "8504a601-69ea-41f2-8f51-21b032764657"
      },
      "execution_count": 7,
      "outputs": [
        {
          "output_type": "stream",
          "name": "stdout",
          "text": [
            "0\n",
            "2\n",
            "4\n",
            "6\n",
            "8\n"
          ]
        }
      ]
    },
    {
      "cell_type": "code",
      "source": [
        "for i in range(0,10,3):\n",
        "  print(i)"
      ],
      "metadata": {
        "colab": {
          "base_uri": "https://localhost:8080/"
        },
        "id": "5nxYdt3mEKZh",
        "outputId": "98840a7c-6a4f-40ad-9a4f-ba595a5f4205"
      },
      "execution_count": 8,
      "outputs": [
        {
          "output_type": "stream",
          "name": "stdout",
          "text": [
            "0\n",
            "3\n",
            "6\n",
            "9\n"
          ]
        }
      ]
    },
    {
      "cell_type": "markdown",
      "source": [
        "Q.2 Take a list of numbers and display all the even numbers from the list?"
      ],
      "metadata": {
        "id": "G-bKlWrfE9ow"
      }
    },
    {
      "cell_type": "code",
      "source": [
        "my_list=[2,3,4,5,6,7,8,9,12,13,15,16,17,18,19,20]\n",
        "for i in my_list:\n",
        "  if i%2==0:\n",
        "    print(i,end=' ') #if we want answer in horizontal way\n",
        "\n",
        "\n"
      ],
      "metadata": {
        "colab": {
          "base_uri": "https://localhost:8080/"
        },
        "id": "mksx81pcFJae",
        "outputId": "495b5525-d8a8-4af1-b0b3-2d8a863e55b5"
      },
      "execution_count": 10,
      "outputs": [
        {
          "output_type": "stream",
          "name": "stdout",
          "text": [
            "2 4 6 8 12 16 18 20 "
          ]
        }
      ]
    },
    {
      "cell_type": "markdown",
      "source": [
        "Q.3 Take a list of numbers and display all the odd numbers from the list?"
      ],
      "metadata": {
        "id": "t9gd0Y_BGrSC"
      }
    },
    {
      "cell_type": "code",
      "source": [
        "my_list=[2,3,4,5,6,7,8,9,12,13,15,16,17,18,19,20]\n",
        "for i in my_list:\n",
        "  if i%2==1:\n",
        "      print(i,end=' ') #if we want answer in horizontal way\n",
        "\n",
        "\n"
      ],
      "metadata": {
        "colab": {
          "base_uri": "https://localhost:8080/"
        },
        "id": "LXmiQxrdGtz3",
        "outputId": "6f969b69-1742-4bda-f097-fa751d571c99"
      },
      "execution_count": 11,
      "outputs": [
        {
          "output_type": "stream",
          "name": "stdout",
          "text": [
            "3 5 7 9 13 15 17 19 "
          ]
        }
      ]
    },
    {
      "cell_type": "markdown",
      "source": [
        "While Loop\n",
        "\n",
        "Q.4 Display all the numbers including 1 to 10"
      ],
      "metadata": {
        "id": "m6pN9cZvYjkf"
      }
    },
    {
      "cell_type": "code",
      "source": [
        "i = 1\n",
        "while i<=10:\n",
        "  print(i)\n",
        "  i=i+1"
      ],
      "metadata": {
        "colab": {
          "base_uri": "https://localhost:8080/"
        },
        "id": "WSU9G6fTYufV",
        "outputId": "e937a963-9db0-4f0e-a735-b8bef764115a"
      },
      "execution_count": 12,
      "outputs": [
        {
          "output_type": "stream",
          "name": "stdout",
          "text": [
            "1\n",
            "2\n",
            "3\n",
            "4\n",
            "5\n",
            "6\n",
            "7\n",
            "8\n",
            "9\n",
            "10\n"
          ]
        }
      ]
    },
    {
      "cell_type": "markdown",
      "source": [
        "Q.5 Display all the even numbers between 1 to 20 (both numbers included)"
      ],
      "metadata": {
        "id": "6lhxOXU5ZHz5"
      }
    },
    {
      "cell_type": "code",
      "source": [
        "i = 0\n",
        "while i<=20:\n",
        "  print(i)\n",
        "  i=i+2"
      ],
      "metadata": {
        "colab": {
          "base_uri": "https://localhost:8080/"
        },
        "id": "M4gav8J1bFOK",
        "outputId": "a470920c-e53a-4bcd-969c-544442841fed"
      },
      "execution_count": 23,
      "outputs": [
        {
          "output_type": "stream",
          "name": "stdout",
          "text": [
            "0\n",
            "2\n",
            "4\n",
            "6\n",
            "8\n",
            "10\n",
            "12\n",
            "14\n",
            "16\n",
            "18\n",
            "20\n"
          ]
        }
      ]
    },
    {
      "cell_type": "markdown",
      "source": [
        "Controlling the flow in Loops\n",
        "\n",
        "1.Break statement -- breaks the loop when an element is satisfying a given condition\n",
        "\n",
        "2.Continue statement -- the loop continues to iterate and only the element in the given condition gets skipped"
      ],
      "metadata": {
        "id": "8fyAsG2nbbEX"
      }
    },
    {
      "cell_type": "code",
      "source": [
        "#break statement\n",
        "fruit=[\"apple\", \"guava\", \"lichi\", \"berry\", \"melon\"]\n",
        "for i in fruit:\n",
        "  if i==\"lichi\":\n",
        "    break\n",
        "  print(i)"
      ],
      "metadata": {
        "colab": {
          "base_uri": "https://localhost:8080/"
        },
        "id": "KxPBk7Dlb8aI",
        "outputId": "92c22331-58f2-4cfc-88a8-23c379709061"
      },
      "execution_count": 28,
      "outputs": [
        {
          "output_type": "stream",
          "name": "stdout",
          "text": [
            "apple\n",
            "guava\n"
          ]
        }
      ]
    },
    {
      "cell_type": "code",
      "source": [
        "name=\"Ankita\"\n",
        "for i in name:\n",
        "  if i==\"t\":\n",
        "    break\n",
        "  print(i)"
      ],
      "metadata": {
        "colab": {
          "base_uri": "https://localhost:8080/"
        },
        "id": "OSwfbeySd9O3",
        "outputId": "92947bc0-0e2d-4d48-9870-a1a3ad01c2ca"
      },
      "execution_count": 26,
      "outputs": [
        {
          "output_type": "stream",
          "name": "stdout",
          "text": [
            "A\n",
            "n\n",
            "k\n",
            "i\n"
          ]
        }
      ]
    },
    {
      "cell_type": "code",
      "source": [
        "#continue statement\n",
        "fruits=[\"apple\", \"banana\", \"melon\", \"guava\"]\n",
        "for i in fruits:\n",
        "  if i==\"melon\":\n",
        "    continue\n",
        "  print(i)"
      ],
      "metadata": {
        "colab": {
          "base_uri": "https://localhost:8080/"
        },
        "id": "QOvhPLrofaVp",
        "outputId": "db6e3f60-a03a-4ccf-b00a-b781e5e2df3a"
      },
      "execution_count": 43,
      "outputs": [
        {
          "output_type": "stream",
          "name": "stdout",
          "text": [
            "apple\n",
            "banana\n",
            "guava\n"
          ]
        }
      ]
    },
    {
      "cell_type": "markdown",
      "source": [],
      "metadata": {
        "id": "Y03Q_jPtfm2M"
      }
    }
  ]
}