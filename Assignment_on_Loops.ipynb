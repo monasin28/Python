{
  "nbformat": 4,
  "nbformat_minor": 0,
  "metadata": {
    "colab": {
      "provenance": [],
      "include_colab_link": true
    },
    "kernelspec": {
      "name": "python3",
      "display_name": "Python 3"
    },
    "language_info": {
      "name": "python"
    }
  },
  "cells": [
    {
      "cell_type": "markdown",
      "metadata": {
        "id": "view-in-github",
        "colab_type": "text"
      },
      "source": [
        "<a href=\"https://colab.research.google.com/github/monasin28/Python/blob/main/Assignment_on_Loops.ipynb\" target=\"_parent\"><img src=\"https://colab.research.google.com/assets/colab-badge.svg\" alt=\"Open In Colab\"/></a>"
      ]
    },
    {
      "cell_type": "markdown",
      "source": [
        "Write a program which accepts month's name as input and display the number of days in the month as output"
      ],
      "metadata": {
        "id": "MdAkQQ_Y4wwG"
      }
    },
    {
      "cell_type": "code",
      "source": [
        "# Dictionary to store the number of days in each month\n",
        "month_days = {\"January\": 31, \"February\": 28, \"March\": 31,\"April\": 30, \"May\": 31, \"June\": 30, \"July\": 31, \"August\": 31,\"September\": 30,\"October\": 31, \"November\": 30, \"December\": 31}\n",
        "months = list(month_days.keys())\n",
        "month_name = input(\"Enter the name of the month: \") #assuming it is not a leap year\n",
        "\n",
        "for month in months:\n",
        "    if month.lower() == month_name.lower():\n",
        "        print(f\"{month} has {month_days[month]} days.\")\n",
        "        break\n",
        "else:\n",
        "    print(\"Invalid month name entered.\")"
      ],
      "metadata": {
        "id": "5CHcmXp1CKEa",
        "colab": {
          "base_uri": "https://localhost:8080/"
        },
        "outputId": "71f11e90-566a-41d6-b337-2ca754827773"
      },
      "execution_count": 18,
      "outputs": [
        {
          "output_type": "stream",
          "name": "stdout",
          "text": [
            "Enter the name of the month: may\n",
            "May has 31 days.\n"
          ]
        }
      ]
    },
    {
      "cell_type": "markdown",
      "source": [
        "Take any word as input from the user and count the number of vowels in the word"
      ],
      "metadata": {
        "id": "Q8cCBC198J6M"
      }
    },
    {
      "cell_type": "code",
      "source": [
        "string=input(\"Enter string:\")\n",
        "vowels=0\n",
        "for i in string:\n",
        "      if(i=='a' or i=='e' or i=='i' or i=='o' or i=='u' or i=='A' or i=='E' or i=='I' or i=='O' or i=='U'):\n",
        "            vowels=vowels+1\n",
        "print(\"Number of vowels are:\")\n",
        "print(vowels)"
      ],
      "metadata": {
        "id": "fCmmgoZfCKga",
        "colab": {
          "base_uri": "https://localhost:8080/"
        },
        "outputId": "283c8955-6103-492d-aa44-93a0ad82fead"
      },
      "execution_count": 19,
      "outputs": [
        {
          "output_type": "stream",
          "name": "stdout",
          "text": [
            "Enter string:ankita\n",
            "Number of vowels are:\n",
            "3\n"
          ]
        }
      ]
    },
    {
      "cell_type": "markdown",
      "source": [
        "Write a program to separate even and odd numbers in two distinct lists from a list of numbers of your choice"
      ],
      "metadata": {
        "id": "1ugWwVXd49OI"
      }
    },
    {
      "cell_type": "code",
      "source": [
        "numbers = [10, 21, 4, 41, 69, 91, 1, 34, 42, 99, 23, 67, 12, 34, 54]\n",
        "even_numbers = []\n",
        "odd_numbers = []\n",
        "for number in numbers:\n",
        "    if number % 2 == 0:\n",
        "        even_numbers.append(number)\n",
        "    else:\n",
        "        odd_numbers.append(number)\n",
        "\n",
        "print(\"Even numbers:\", even_numbers)\n",
        "print(\"Odd numbers:\", odd_numbers)"
      ],
      "metadata": {
        "id": "p0MPJzU6CK6f",
        "colab": {
          "base_uri": "https://localhost:8080/"
        },
        "outputId": "c9eb1cd9-a435-4fb7-8ee7-ca0ed3a19d5b"
      },
      "execution_count": 23,
      "outputs": [
        {
          "output_type": "stream",
          "name": "stdout",
          "text": [
            "Even numbers: [10, 4, 34, 42, 12, 34, 54]\n",
            "Odd numbers: [21, 41, 69, 91, 1, 99, 23, 67]\n"
          ]
        }
      ]
    },
    {
      "cell_type": "markdown",
      "source": [
        "Write a program that appends datatype of elements from a list to a separate list"
      ],
      "metadata": {
        "id": "uaqnGrhs49Mf"
      }
    },
    {
      "cell_type": "code",
      "source": [
        "# elements with mixed data types\n",
        "elements = [1, 'hello', 3.14, True, None, [1, 2, 3], {'key': 'value'}]\n",
        "\n",
        "# List to store the data types\n",
        "data_types = []\n",
        "for element in elements:\n",
        "    data_types.append(type(element))\n",
        "print(data_types)"
      ],
      "metadata": {
        "id": "ypNro7WSCLX7",
        "colab": {
          "base_uri": "https://localhost:8080/"
        },
        "outputId": "41f6c2dd-fc87-415f-9e05-bf5526dc26a6"
      },
      "execution_count": 3,
      "outputs": [
        {
          "output_type": "stream",
          "name": "stdout",
          "text": [
            "[<class 'int'>, <class 'str'>, <class 'float'>, <class 'bool'>, <class 'NoneType'>, <class 'list'>, <class 'dict'>]\n"
          ]
        }
      ]
    },
    {
      "cell_type": "markdown",
      "source": [
        "Write a program to display only those numbers from a list that satisfies the following conditions:\n",
        "\n",
        "1. The number must be divisible by 7\n",
        "\n",
        "2. If the number is 140 then skip it and move to the next number in the list\n",
        "\n",
        "3. If the number in the list is greater than 630 then stop the loop"
      ],
      "metadata": {
        "id": "ddMu0Pj1643Y"
      }
    },
    {
      "cell_type": "code",
      "source": [
        "numbers = [49, 70, 140, 210, 630, 700, 800]\n",
        "result=[]\n",
        "for num in numbers:\n",
        "  if num % 7 == 0:\n",
        "    if num == 140:\n",
        "      continue\n",
        "    if num > 630:\n",
        "      break\n",
        "    result.append(num)\n",
        "print(result)\n",
        "\n"
      ],
      "metadata": {
        "id": "230Qc9UHTK5-",
        "colab": {
          "base_uri": "https://localhost:8080/"
        },
        "outputId": "e2377384-8719-45f7-ff41-29b091b79a44"
      },
      "execution_count": 1,
      "outputs": [
        {
          "output_type": "stream",
          "name": "stdout",
          "text": [
            "[49, 70, 210, 630]\n"
          ]
        }
      ]
    }
  ]
}