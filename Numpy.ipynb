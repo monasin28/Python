{
  "nbformat": 4,
  "nbformat_minor": 0,
  "metadata": {
    "colab": {
      "provenance": [],
      "authorship_tag": "ABX9TyOOj/Eh5aWMB2PKgfMC/Vv/",
      "include_colab_link": true
    },
    "kernelspec": {
      "name": "python3",
      "display_name": "Python 3"
    },
    "language_info": {
      "name": "python"
    }
  },
  "cells": [
    {
      "cell_type": "markdown",
      "metadata": {
        "id": "view-in-github",
        "colab_type": "text"
      },
      "source": [
        "<a href=\"https://colab.research.google.com/github/monasin28/Python/blob/main/Numpy.ipynb\" target=\"_parent\"><img src=\"https://colab.research.google.com/assets/colab-badge.svg\" alt=\"Open In Colab\"/></a>"
      ]
    },
    {
      "cell_type": "markdown",
      "source": [
        "Numpy\n"
      ],
      "metadata": {
        "id": "QqNP8p4ysnfc"
      }
    },
    {
      "cell_type": "code",
      "source": [
        "import numpy as np #np is an alias of numpy, here np is like nickname of numpy sp that we can use np instead of numpy"
      ],
      "metadata": {
        "id": "osU2pkD5swsr"
      },
      "execution_count": 1,
      "outputs": []
    },
    {
      "cell_type": "code",
      "source": [
        "my_list=[2,3,4,6,7]"
      ],
      "metadata": {
        "id": "1id6IuJHtto4"
      },
      "execution_count": 3,
      "outputs": []
    },
    {
      "cell_type": "code",
      "source": [
        "type(my_list)"
      ],
      "metadata": {
        "colab": {
          "base_uri": "https://localhost:8080/"
        },
        "id": "2Xthg4Rht_a5",
        "outputId": "6bd2b823-3c24-4751-9eba-218a3ffb5dce"
      },
      "execution_count": 4,
      "outputs": [
        {
          "output_type": "execute_result",
          "data": {
            "text/plain": [
              "list"
            ]
          },
          "metadata": {},
          "execution_count": 4
        }
      ]
    },
    {
      "cell_type": "markdown",
      "source": [
        "Converting a list into an array we have to use function"
      ],
      "metadata": {
        "id": "Gq_lsqPyuH4Q"
      }
    },
    {
      "cell_type": "code",
      "source": [
        "arr=np.array(my_list)"
      ],
      "metadata": {
        "id": "TjhVN-SeuWWE"
      },
      "execution_count": 5,
      "outputs": []
    },
    {
      "cell_type": "code",
      "source": [
        "print(arr)"
      ],
      "metadata": {
        "colab": {
          "base_uri": "https://localhost:8080/"
        },
        "id": "dvBEEr-fuj2U",
        "outputId": "10c19c0d-db09-4e30-a52f-be625a968027"
      },
      "execution_count": 6,
      "outputs": [
        {
          "output_type": "stream",
          "name": "stdout",
          "text": [
            "[2 3 4 6 7]\n"
          ]
        }
      ]
    },
    {
      "cell_type": "code",
      "source": [
        "type(arr) #n dimensional array - 1 dimensional array"
      ],
      "metadata": {
        "colab": {
          "base_uri": "https://localhost:8080/"
        },
        "id": "00uaQiyduslW",
        "outputId": "66a7c0d4-c7ae-422f-b093-b3e0cc8b02d9"
      },
      "execution_count": 7,
      "outputs": [
        {
          "output_type": "execute_result",
          "data": {
            "text/plain": [
              "numpy.ndarray"
            ]
          },
          "metadata": {},
          "execution_count": 7
        }
      ]
    },
    {
      "cell_type": "code",
      "source": [
        "arr.shape"
      ],
      "metadata": {
        "colab": {
          "base_uri": "https://localhost:8080/"
        },
        "id": "m-f7qxWevAi9",
        "outputId": "b1020567-85b2-4f31-c068-c0d927334e94"
      },
      "execution_count": 8,
      "outputs": [
        {
          "output_type": "execute_result",
          "data": {
            "text/plain": [
              "(5,)"
            ]
          },
          "metadata": {},
          "execution_count": 8
        }
      ]
    },
    {
      "cell_type": "markdown",
      "source": [
        "2 Dimensional Array-multinested array-multidimensional array"
      ],
      "metadata": {
        "id": "nJ7GqxhevJf1"
      }
    },
    {
      "cell_type": "code",
      "source": [
        "my_list_1=[2,4,6,7,9]\n",
        "my_list_2=[3,7,9,2,0]\n",
        "my_list_3=[6,9,8,2,5]\n",
        "arr_new=np.array([my_list_1, my_list_2, my_list_3])"
      ],
      "metadata": {
        "id": "NqqNnoe2vFVQ"
      },
      "execution_count": 10,
      "outputs": []
    },
    {
      "cell_type": "code",
      "source": [
        "print(arr_new) #metrics"
      ],
      "metadata": {
        "colab": {
          "base_uri": "https://localhost:8080/"
        },
        "id": "5B5yoodGwBpi",
        "outputId": "5652225f-8abc-416f-f390-6ec63071ef2e"
      },
      "execution_count": 11,
      "outputs": [
        {
          "output_type": "stream",
          "name": "stdout",
          "text": [
            "[[2 4 6 7 9]\n",
            " [3 7 9 2 0]\n",
            " [6 9 8 2 5]]\n"
          ]
        }
      ]
    },
    {
      "cell_type": "code",
      "source": [
        "arr_new.shape #3 rows & 5 column"
      ],
      "metadata": {
        "colab": {
          "base_uri": "https://localhost:8080/"
        },
        "id": "byAByG18wxcd",
        "outputId": "d4e827ea-36e1-4046-e336-575cfec37a22"
      },
      "execution_count": 12,
      "outputs": [
        {
          "output_type": "execute_result",
          "data": {
            "text/plain": [
              "(3, 5)"
            ]
          },
          "metadata": {},
          "execution_count": 12
        }
      ]
    },
    {
      "cell_type": "markdown",
      "source": [
        "Transpose of the metrics ( Converting rows into column & column into rows)"
      ],
      "metadata": {
        "id": "1hmIKvb_w9Qd"
      }
    },
    {
      "cell_type": "code",
      "source": [
        "arr_new.reshape(5,3) #transpose"
      ],
      "metadata": {
        "colab": {
          "base_uri": "https://localhost:8080/"
        },
        "id": "T8InKDSXxL-4",
        "outputId": "ffa3b63c-1559-4b7c-acdb-64a03f06d846"
      },
      "execution_count": 14,
      "outputs": [
        {
          "output_type": "execute_result",
          "data": {
            "text/plain": [
              "array([[2, 4, 6],\n",
              "       [7, 9, 3],\n",
              "       [7, 9, 2],\n",
              "       [0, 6, 9],\n",
              "       [8, 2, 5]])"
            ]
          },
          "metadata": {},
          "execution_count": 14
        }
      ]
    },
    {
      "cell_type": "markdown",
      "source": [
        "Q. Create a numpy matrix of shape(2,4)"
      ],
      "metadata": {
        "id": "Qu7bJlkHxf2m"
      }
    },
    {
      "cell_type": "code",
      "source": [
        "my_list_1=[3,6,7,1]\n",
        "my_list_2=[7,9,4,3]\n",
        "arr_new=np.array([my_list_1, my_list_2])"
      ],
      "metadata": {
        "id": "iRy5HZOcxnt2"
      },
      "execution_count": 15,
      "outputs": []
    },
    {
      "cell_type": "code",
      "source": [
        "print(arr_new)"
      ],
      "metadata": {
        "colab": {
          "base_uri": "https://localhost:8080/"
        },
        "id": "LRCpVFViySr1",
        "outputId": "41f2b2a7-dffc-47d3-c330-570b43ce1b6c"
      },
      "execution_count": 16,
      "outputs": [
        {
          "output_type": "stream",
          "name": "stdout",
          "text": [
            "[[3 6 7 1]\n",
            " [7 9 4 3]]\n"
          ]
        }
      ]
    },
    {
      "cell_type": "code",
      "source": [
        "arr_new.reshape(4,2)"
      ],
      "metadata": {
        "colab": {
          "base_uri": "https://localhost:8080/"
        },
        "id": "qg54mvOAyXY8",
        "outputId": "63fc06d0-18f4-4e89-8604-7a0fc7821a8b"
      },
      "execution_count": 18,
      "outputs": [
        {
          "output_type": "execute_result",
          "data": {
            "text/plain": [
              "array([[3, 6],\n",
              "       [7, 1],\n",
              "       [7, 9],\n",
              "       [4, 3]])"
            ]
          },
          "metadata": {},
          "execution_count": 18
        }
      ]
    },
    {
      "cell_type": "markdown",
      "source": [
        "Numerical Analysis\n",
        "(Numerical analysis on a single array)"
      ],
      "metadata": {
        "id": "XnzdP5hHyoPk"
      }
    },
    {
      "cell_type": "code",
      "source": [
        "a=np.array([2,3,5,6,9])\n",
        "print(\"adding 1 to each number from the list\", a+1)\n",
        "print(\"subtract 1 to each number from the list\", a-1)\n",
        "print(\"multiply 5 to each element from the list\", a*5)\n",
        "print(\"square of each element from the list\", a**2)"
      ],
      "metadata": {
        "colab": {
          "base_uri": "https://localhost:8080/"
        },
        "id": "P_jHv0M5y22c",
        "outputId": "959bee2f-1751-47b0-d80a-23cd13cf6172"
      },
      "execution_count": 19,
      "outputs": [
        {
          "output_type": "stream",
          "name": "stdout",
          "text": [
            "adding 1 to each number from the list [ 3  4  6  7 10]\n",
            "subtract 1 to each number from the list [1 2 4 5 8]\n",
            "multiply 5 to each element from the list [10 15 25 30 45]\n",
            "square of each element from the list [ 4  9 25 36 81]\n"
          ]
        }
      ]
    },
    {
      "cell_type": "markdown",
      "source": [
        "Generating Random numbers"
      ],
      "metadata": {
        "id": "vr9Bxs-V0Eni"
      }
    },
    {
      "cell_type": "code",
      "source": [
        "np.arange(1,20,1)  #from 1 to 20 we will get equally spaced numbers(stepsize is 1)"
      ],
      "metadata": {
        "colab": {
          "base_uri": "https://localhost:8080/"
        },
        "id": "e8T5xeMn0IVr",
        "outputId": "b088e7a3-f169-45e5-b62c-10f831217074"
      },
      "execution_count": 25,
      "outputs": [
        {
          "output_type": "execute_result",
          "data": {
            "text/plain": [
              "array([ 1,  2,  3,  4,  5,  6,  7,  8,  9, 10, 11, 12, 13, 14, 15, 16, 17,\n",
              "       18, 19])"
            ]
          },
          "metadata": {},
          "execution_count": 25
        }
      ]
    },
    {
      "cell_type": "code",
      "source": [
        "np.arange(1,20,3)  #each numbers will have an equal difference of 3"
      ],
      "metadata": {
        "colab": {
          "base_uri": "https://localhost:8080/"
        },
        "id": "pm7KrWu01QAH",
        "outputId": "dc548cb8-14d2-4fce-a14f-447d4a91a551"
      },
      "execution_count": 27,
      "outputs": [
        {
          "output_type": "execute_result",
          "data": {
            "text/plain": [
              "array([ 1,  4,  7, 10, 13, 16, 19])"
            ]
          },
          "metadata": {},
          "execution_count": 27
        }
      ]
    },
    {
      "cell_type": "markdown",
      "source": [
        "Both arange and linspace are the functions"
      ],
      "metadata": {
        "id": "spI-pm891sZv"
      }
    },
    {
      "cell_type": "code",
      "source": [
        "np.linspace(1,10,50)  # here 50 is the number of elements we need between 1 to 10 (here 10 is not exclusive)"
      ],
      "metadata": {
        "colab": {
          "base_uri": "https://localhost:8080/"
        },
        "id": "HA6AakcF1xX5",
        "outputId": "5ecfc92f-7934-40dc-9714-9f300900f667"
      },
      "execution_count": 28,
      "outputs": [
        {
          "output_type": "execute_result",
          "data": {
            "text/plain": [
              "array([ 1.        ,  1.18367347,  1.36734694,  1.55102041,  1.73469388,\n",
              "        1.91836735,  2.10204082,  2.28571429,  2.46938776,  2.65306122,\n",
              "        2.83673469,  3.02040816,  3.20408163,  3.3877551 ,  3.57142857,\n",
              "        3.75510204,  3.93877551,  4.12244898,  4.30612245,  4.48979592,\n",
              "        4.67346939,  4.85714286,  5.04081633,  5.2244898 ,  5.40816327,\n",
              "        5.59183673,  5.7755102 ,  5.95918367,  6.14285714,  6.32653061,\n",
              "        6.51020408,  6.69387755,  6.87755102,  7.06122449,  7.24489796,\n",
              "        7.42857143,  7.6122449 ,  7.79591837,  7.97959184,  8.16326531,\n",
              "        8.34693878,  8.53061224,  8.71428571,  8.89795918,  9.08163265,\n",
              "        9.26530612,  9.44897959,  9.63265306,  9.81632653, 10.        ])"
            ]
          },
          "metadata": {},
          "execution_count": 28
        }
      ]
    },
    {
      "cell_type": "code",
      "source": [
        "np.linspace(1,10,100)  #here 50 numbers of range 1 to 10 are divided in equal parts"
      ],
      "metadata": {
        "colab": {
          "base_uri": "https://localhost:8080/"
        },
        "id": "RDY_Vgqy2T-k",
        "outputId": "2895a36a-bed4-41d2-f135-1d5af69306d3"
      },
      "execution_count": 30,
      "outputs": [
        {
          "output_type": "execute_result",
          "data": {
            "text/plain": [
              "array([ 1.        ,  1.09090909,  1.18181818,  1.27272727,  1.36363636,\n",
              "        1.45454545,  1.54545455,  1.63636364,  1.72727273,  1.81818182,\n",
              "        1.90909091,  2.        ,  2.09090909,  2.18181818,  2.27272727,\n",
              "        2.36363636,  2.45454545,  2.54545455,  2.63636364,  2.72727273,\n",
              "        2.81818182,  2.90909091,  3.        ,  3.09090909,  3.18181818,\n",
              "        3.27272727,  3.36363636,  3.45454545,  3.54545455,  3.63636364,\n",
              "        3.72727273,  3.81818182,  3.90909091,  4.        ,  4.09090909,\n",
              "        4.18181818,  4.27272727,  4.36363636,  4.45454545,  4.54545455,\n",
              "        4.63636364,  4.72727273,  4.81818182,  4.90909091,  5.        ,\n",
              "        5.09090909,  5.18181818,  5.27272727,  5.36363636,  5.45454545,\n",
              "        5.54545455,  5.63636364,  5.72727273,  5.81818182,  5.90909091,\n",
              "        6.        ,  6.09090909,  6.18181818,  6.27272727,  6.36363636,\n",
              "        6.45454545,  6.54545455,  6.63636364,  6.72727273,  6.81818182,\n",
              "        6.90909091,  7.        ,  7.09090909,  7.18181818,  7.27272727,\n",
              "        7.36363636,  7.45454545,  7.54545455,  7.63636364,  7.72727273,\n",
              "        7.81818182,  7.90909091,  8.        ,  8.09090909,  8.18181818,\n",
              "        8.27272727,  8.36363636,  8.45454545,  8.54545455,  8.63636364,\n",
              "        8.72727273,  8.81818182,  8.90909091,  9.        ,  9.09090909,\n",
              "        9.18181818,  9.27272727,  9.36363636,  9.45454545,  9.54545455,\n",
              "        9.63636364,  9.72727273,  9.81818182,  9.90909091, 10.        ])"
            ]
          },
          "metadata": {},
          "execution_count": 30
        }
      ]
    },
    {
      "cell_type": "markdown",
      "source": [
        "Generating a Random float number between 0 to 1 (here 1 will be exclusive)"
      ],
      "metadata": {
        "id": "PMdzrgmz21Uj"
      }
    },
    {
      "cell_type": "code",
      "source": [
        "num=np.random.rand()"
      ],
      "metadata": {
        "id": "_7IB-_rO3AAh"
      },
      "execution_count": 37,
      "outputs": []
    },
    {
      "cell_type": "code",
      "source": [
        "print(num)"
      ],
      "metadata": {
        "colab": {
          "base_uri": "https://localhost:8080/"
        },
        "id": "dmzOKYor3H74",
        "outputId": "1c5d75cd-80a9-4b95-8dc1-b184bf59c985"
      },
      "execution_count": 38,
      "outputs": [
        {
          "output_type": "stream",
          "name": "stdout",
          "text": [
            "0.4881767384129141\n"
          ]
        }
      ]
    },
    {
      "cell_type": "code",
      "source": [
        "int_num=np.random.randint(0,10) #everytime when we print it will appear new random number"
      ],
      "metadata": {
        "id": "dDUWNjNH3T-x"
      },
      "execution_count": 43,
      "outputs": []
    },
    {
      "cell_type": "code",
      "source": [
        "print(int_num)"
      ],
      "metadata": {
        "colab": {
          "base_uri": "https://localhost:8080/"
        },
        "id": "vwDyiJ9E3lbC",
        "outputId": "e7584438-bae3-451b-e8f2-8cde6db4c484"
      },
      "execution_count": 44,
      "outputs": [
        {
          "output_type": "stream",
          "name": "stdout",
          "text": [
            "4\n"
          ]
        }
      ]
    },
    {
      "cell_type": "code",
      "source": [
        "np.random.rand(3,4)  #here 3 means number of rows & 4 means the number of column"
      ],
      "metadata": {
        "colab": {
          "base_uri": "https://localhost:8080/"
        },
        "id": "VTqK-nuZ36Rx",
        "outputId": "fb58051e-4909-4327-cc4d-fef1d7f10f82"
      },
      "execution_count": 46,
      "outputs": [
        {
          "output_type": "execute_result",
          "data": {
            "text/plain": [
              "array([[0.20942319, 0.40299079, 0.45535088, 0.19116278],\n",
              "       [0.0640505 , 0.14297975, 0.60582369, 0.49556023],\n",
              "       [0.214318  , 0.74065796, 0.98113117, 0.00592572]])"
            ]
          },
          "metadata": {},
          "execution_count": 46
        }
      ]
    }
  ]
}