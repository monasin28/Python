{
  "nbformat": 4,
  "nbformat_minor": 0,
  "metadata": {
    "colab": {
      "provenance": [],
      "include_colab_link": true
    },
    "kernelspec": {
      "name": "python3",
      "display_name": "Python 3"
    },
    "language_info": {
      "name": "python"
    }
  },
  "cells": [
    {
      "cell_type": "markdown",
      "metadata": {
        "id": "view-in-github",
        "colab_type": "text"
      },
      "source": [
        "<a href=\"https://colab.research.google.com/github/monasin28/Python/blob/main/Assignment_on__Conditional_Statements.ipynb\" target=\"_parent\"><img src=\"https://colab.research.google.com/assets/colab-badge.svg\" alt=\"Open In Colab\"/></a>"
      ]
    },
    {
      "cell_type": "markdown",
      "source": [
        "Take three numbers 'x', 'y' and 'z' as input from the user and check which number is greater\n"
      ],
      "metadata": {
        "id": "AcR_27Hh5QTe"
      }
    },
    {
      "cell_type": "code",
      "source": [
        "x=int(input(\"enter the number\"))\n",
        "y=int(input(\"enter the number\"))\n",
        "z=int(input(\"enter the number\"))\n",
        "if (x>=y) and (x>=z):\n",
        "  print('x is greater')\n",
        "elif (y>=x) and (y>=z):\n",
        "    print('y is greater')\n",
        "else:\n",
        "  print('z is greater')"
      ],
      "metadata": {
        "id": "ZqmjTxbD5QG4",
        "colab": {
          "base_uri": "https://localhost:8080/"
        },
        "outputId": "c4741011-e788-4614-aab1-2383ee582c3e"
      },
      "execution_count": 4,
      "outputs": [
        {
          "output_type": "stream",
          "name": "stdout",
          "text": [
            "enter the number4\n",
            "enter the number8\n",
            "enter the number3\n",
            "y is greater\n"
          ]
        }
      ]
    },
    {
      "cell_type": "markdown",
      "source": [
        "Take an alphabet as input from the user and check if the alphabet is a vowel, consonant or an exception\n",
        "\n",
        "\n",
        "Vowel - 'a','e','i','o','u'\n",
        "\n",
        "Exception - 'h', 'y'\n",
        "\n",
        "Consonant - rest other alphabets"
      ],
      "metadata": {
        "id": "QgkCsQlx4c5Y"
      }
    },
    {
      "cell_type": "code",
      "source": [
        "L=input('enter an alphabet: ')\n",
        "if L in ('a','e','i','o','u'):\n",
        "  print('alphabet is vowel', L)\n",
        "elif L in ('h','y'):\n",
        "  print('alphabet is exception', L)\n",
        "else:\n",
        "  print('alphabet is consonant', L)\n"
      ],
      "metadata": {
        "id": "mTRgMPbt4dTk",
        "colab": {
          "base_uri": "https://localhost:8080/"
        },
        "outputId": "864e055d-29f3-4622-93f2-a412985b9a4d"
      },
      "execution_count": null,
      "outputs": [
        {
          "output_type": "stream",
          "name": "stdout",
          "text": [
            "enter an alphabet: u\n",
            "alphabet is vowel u\n"
          ]
        }
      ]
    },
    {
      "cell_type": "code",
      "source": [
        "L=input('enter an alphabet: ')\n",
        "if L in ('a','e','i','o','u'):\n",
        "  print('alphabet is vowel', L)\n",
        "elif L in ('h','y'):\n",
        "  print('alphabet is exception', L)\n",
        "else:\n",
        "  print('alphabet is consonant', L)\n"
      ],
      "metadata": {
        "colab": {
          "base_uri": "https://localhost:8080/"
        },
        "id": "x8C3oAgq9xA-",
        "outputId": "25c5578e-2635-447c-f049-e3d7c759e1f9"
      },
      "execution_count": null,
      "outputs": [
        {
          "output_type": "stream",
          "name": "stdout",
          "text": [
            "enter an alphabet: r\n",
            "alphabet is consonant r\n"
          ]
        }
      ]
    },
    {
      "cell_type": "code",
      "source": [
        "L=input('enter an alphabet: ')\n",
        "if L in ('a','e','i','o','u'):\n",
        "  print('alphabet is vowel', L)\n",
        "elif L in ('h','y'):\n",
        "  print('alphabet is exception', L)\n",
        "else:\n",
        "  print('alphabet is consonant', L)"
      ],
      "metadata": {
        "colab": {
          "base_uri": "https://localhost:8080/"
        },
        "id": "NV5iAuKq98NT",
        "outputId": "299e41c7-33d1-4e35-f015-7e99321680cb"
      },
      "execution_count": null,
      "outputs": [
        {
          "output_type": "stream",
          "name": "stdout",
          "text": [
            "enter an alphabet: y\n",
            "alphabet is exception y\n"
          ]
        }
      ]
    },
    {
      "cell_type": "markdown",
      "source": [
        "Write a program to check whether a number given by a user is divisible by 2 and 3 both"
      ],
      "metadata": {
        "id": "5TqcIsuG4N4x"
      }
    },
    {
      "cell_type": "code",
      "source": [
        "x=int(input(\"Enter a number\"))\n",
        "if x%2==0 and x%3==0:\n",
        "  print(\"number is divisible by both 2 & 3\")\n",
        "else:\n",
        "  print(\"not divisible\")"
      ],
      "metadata": {
        "id": "1TobEmuY4NkT",
        "colab": {
          "base_uri": "https://localhost:8080/"
        },
        "outputId": "a9d293fc-0ead-4ce0-cc02-2a3a985c28da"
      },
      "execution_count": null,
      "outputs": [
        {
          "output_type": "stream",
          "name": "stdout",
          "text": [
            "Enter a number42\n",
            "number is divisible by both 2 & 3\n"
          ]
        }
      ]
    },
    {
      "cell_type": "markdown",
      "source": [
        "Write a program to accept the cost price  of a bike as input and display the road tax to be paid according to the following crieteria :-\n",
        "\n",
        "Cost price - 100000 Tax - 15%\n",
        "\n",
        "Cost price - between 50000 to 100000 Tax - 10%\n",
        "\n",
        "Cost price - less than 50000 Tax - 5%"
      ],
      "metadata": {
        "id": "Vl0l7eM93o-k"
      }
    },
    {
      "cell_type": "code",
      "source": [
        "cost_price=int(input('enter cost price of a bike'))\n",
        "if cost_price>=100000:\n",
        "  print('15% road tax to be paid')\n",
        "elif 100000>cost_price>50000:\n",
        "  print('10% road tax to be paid')\n",
        "else:\n",
        "  print('5% road tax to be paid')"
      ],
      "metadata": {
        "id": "TdHw-M2Z3lkL",
        "colab": {
          "base_uri": "https://localhost:8080/"
        },
        "outputId": "b177f93d-ab57-4dce-9f7f-9a1f168e4853"
      },
      "execution_count": null,
      "outputs": [
        {
          "output_type": "stream",
          "name": "stdout",
          "text": [
            "enter cost price of a bike79000\n",
            "10% road tax to be paid\n"
          ]
        }
      ]
    },
    {
      "cell_type": "markdown",
      "source": [
        "Write a program to calculate the electricity bill by accepting the number of units consumed by the user as input. Use the following price chart for reference :-\n",
        "\n",
        "Price of first 100 units - no charge\n",
        "\n",
        "Price of next 100 units - Rs 5/- per unit\n",
        "\n",
        "After 200 units - Rs 10/- per unit"
      ],
      "metadata": {
        "id": "4qwB-dyV2vdv"
      }
    },
    {
      "cell_type": "code",
      "execution_count": null,
      "metadata": {
        "id": "9CRK7oBa2rjP",
        "colab": {
          "base_uri": "https://localhost:8080/"
        },
        "outputId": "1c6f8d5b-71e3-4824-87b5-dc780ef478d4"
      },
      "outputs": [
        {
          "output_type": "stream",
          "name": "stdout",
          "text": [
            "number of units of electricity bill220\n",
            "Rs10/-per unit\n"
          ]
        }
      ],
      "source": [
        "units=int(input('number of units of electricity bill'))\n",
        "if units<=100:\n",
        "  print('no charge')\n",
        "elif units<=200:\n",
        "  print('Rs5/-per unit')\n",
        "else:\n",
        "  print('Rs10/-per unit')"
      ]
    }
  ]
}